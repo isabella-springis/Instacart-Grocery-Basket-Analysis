{
 "cells": [
  {
   "cell_type": "markdown",
   "metadata": {},
   "source": [
    "### 1. Import the data set you exported in Exercise 4.9 into a new Jupyter notebook. This should be the merged version of your data that contains the new customers column."
   ]
  },
  {
   "cell_type": "code",
   "execution_count": 2,
   "metadata": {},
   "outputs": [],
   "source": [
    "# Import Libraries\n",
    "\n",
    "import pandas as pd\n",
    "import numpy as np\n",
    "import os \n",
    "import matplotlib.pyplot as plt\n",
    "import seaborn as sns\n",
    "import scipy"
   ]
  },
  {
   "cell_type": "code",
   "execution_count": 3,
   "metadata": {},
   "outputs": [],
   "source": [
    "# Create path\n",
    "\n",
    "path = r'/Users/laceymarchment/Desktop/Instacart Basket Analysis'"
   ]
  },
  {
   "cell_type": "code",
   "execution_count": 4,
   "metadata": {},
   "outputs": [],
   "source": [
    "# Import merged profiles dataframe which is the reduced \n",
    "\n",
    "df = pd.read_pickle(os.path.join(path,'02 Data', 'Prepared Data', 'df_profiles_merged.pkl'))"
   ]
  },
  {
   "cell_type": "code",
   "execution_count": 3,
   "metadata": {},
   "outputs": [],
   "source": [
    "# Import merged dataframe\n",
    "\n",
    "df_customers_merged = pd.read_pickle(os.path.join(path,'02 Data', 'Prepared Data', 'merge_large.pkl'))"
   ]
  },
  {
   "cell_type": "markdown",
   "metadata": {},
   "source": [
    "### 2. Consider any security implications that might exist for this new data. You’ll need to address any PII data in the data before continuing your analysis."
   ]
  },
  {
   "cell_type": "code",
   "execution_count": 4,
   "metadata": {},
   "outputs": [],
   "source": [
    "# Drop PII columns \n",
    "\n",
    "df_pii = df_customers_merged.drop(columns=['First Name', 'Surname'])"
   ]
  },
  {
   "cell_type": "code",
   "execution_count": 12,
   "metadata": {},
   "outputs": [
    {
     "data": {
      "text/plain": [
       "Index(['Unnamed: 0_x', 'order_id', 'user_id', 'order_number', 'order_dow',\n",
       "       'order_hour_of_day', 'days_since_prior_order', 'product_id',\n",
       "       'add_to_cart_order', 'reordered', 'Unnamed: 0_y', 'product_name_x',\n",
       "       'aisle_id_x', 'department_id_x', 'prices_x', 'exists', 'Unnamed: 0',\n",
       "       'product_name_y', 'aisle_id_y', 'department_id_y', 'prices_y', 'exist',\n",
       "       'max_order', 'loyalty_flag', 'Average_spending', 'spending_flag',\n",
       "       'Median_days_since_prior_order', 'frequency_flag', 'First Name',\n",
       "       'Surname', 'Gender', 'State', 'Age', 'date_joined', 'n_dependants',\n",
       "       'fam_status', 'income', '_merge'],\n",
       "      dtype='object')"
      ]
     },
     "execution_count": 12,
     "metadata": {},
     "output_type": "execute_result"
    }
   ],
   "source": [
    "df_customers_merged.columns"
   ]
  },
  {
   "cell_type": "code",
   "execution_count": 5,
   "metadata": {},
   "outputs": [],
   "source": [
    "del df_customers_merged['First Name']"
   ]
  },
  {
   "cell_type": "code",
   "execution_count": 6,
   "metadata": {},
   "outputs": [],
   "source": [
    "del df_customers_merged['Surname']"
   ]
  },
  {
   "cell_type": "code",
   "execution_count": 16,
   "metadata": {},
   "outputs": [
    {
     "data": {
      "text/plain": [
       "Index(['Unnamed: 0_x', 'order_id', 'user_id', 'order_number', 'order_dow',\n",
       "       'order_hour_of_day', 'days_since_prior_order', 'product_id',\n",
       "       'add_to_cart_order', 'reordered', 'Unnamed: 0_y', 'product_name_x',\n",
       "       'aisle_id_x', 'department_id_x', 'prices_x', 'exists', 'Unnamed: 0',\n",
       "       'product_name_y', 'aisle_id_y', 'department_id_y', 'prices_y', 'exist',\n",
       "       'max_order', 'loyalty_flag', 'Average_spending', 'spending_flag',\n",
       "       'Median_days_since_prior_order', 'frequency_flag', 'Gender', 'State',\n",
       "       'Age', 'date_joined', 'n_dependants', 'fam_status', 'income', '_merge'],\n",
       "      dtype='object')"
      ]
     },
     "execution_count": 16,
     "metadata": {},
     "output_type": "execute_result"
    }
   ],
   "source": [
    "df_customers_merged.columns"
   ]
  },
  {
   "cell_type": "markdown",
   "metadata": {},
   "source": [
    "### 3. The Instacart officers are interested in comparing customer behavior in different geographic areas. Create a regional segmentation of the data. You’ll need to create a “Region” column based on the “State” column from your customers data set.\n",
    "### - Use the region information in this Wikipedia article to create your column (you only need to create regions, not divisions).\n",
    "### - Determine whether there’s a difference in spending habits between the different U.S. regions. (Hint: You can do this by crossing the variable you just created with the spending flag.)"
   ]
  },
  {
   "cell_type": "code",
   "execution_count": 7,
   "metadata": {},
   "outputs": [],
   "source": [
    "# Create column 'Region' using a for loop\n",
    "\n",
    "result = []\n",
    "\n",
    "for value in df_customers_merged[\"State\"]:\n",
    "    if (value == \"Maine\" or value==\"New Hampshire\" or value==\"Vermont\" or value==\"Massachusetts\" or value==\"Rhode Island\" or value==\"Connecticut\" or value==\"New York\" or value==\"Pennsylvania\" or value==\"New Jersey\"):\n",
    "        result.append(\"Northeast\")\n",
    "    elif (value == \"Wisconsin\" or value==\"Michigan\" or value==\"Illinois\" or value==\"Indiana\" or value==\"Ohio\" or value==\"North Dakota\" or value==\"South Dakota\" or value==\"Nebraska\" or value==\"Kansas\" or value==\"Minnesota\" or value==\"Iowa\" or value==\"Missouri\"):\n",
    "        result.append(\"Midwest\")\n",
    "    elif (value == \"Delaware\" or value== \"Maryland\" or value== \"District of Columbia\" or value== \"Virginia\" or value== \"West Virginia\" or value== \"North Carolina\" or value== \"South Carolina\" or value== \"Georgia\" or value== \"Florida\" or value== \"Kentucky\" or value== \"Tennessee\" or value== \"Mississippi\" or value== \"Alabama\" or value== \"Oklahoma\" or value== \"Texas\" or value== \"Arkansas\" or value== \"Louisiana\"):\n",
    "        result.append(\"South\")\n",
    "    elif (value == \"Idaho\" or value== \"Montana\" or value== \"Wyoming\" or value== \"Nevada\" or value== \"Utah\" or value== \"Colorado\" or value== \"Arizona\" or value== \"New Mexico\" or value== \"Alaska\" or value== \"Washington\" or value== \"Oregon\" or value== \"California\" or value== \"Hawaii\"):\n",
    "        result.append(\"West\")\n",
    "    else:\n",
    "        result.append(\"Not Enough Data\")"
   ]
  },
  {
   "cell_type": "code",
   "execution_count": 8,
   "metadata": {},
   "outputs": [],
   "source": [
    "# Create \n",
    "\n",
    "df_customers_merged['Region'] = result"
   ]
  },
  {
   "cell_type": "code",
   "execution_count": 9,
   "metadata": {},
   "outputs": [
    {
     "data": {
      "text/plain": [
       "South        10801567\n",
       "West          8300413\n",
       "Midwest       7603860\n",
       "Northeast     5728330\n",
       "Name: Region, dtype: int64"
      ]
     },
     "execution_count": 9,
     "metadata": {},
     "output_type": "execute_result"
    }
   ],
   "source": [
    "# Check frequency\n",
    "\n",
    "df_customers_merged['Region'].value_counts(dropna=False)"
   ]
  },
  {
   "cell_type": "code",
   "execution_count": 10,
   "metadata": {},
   "outputs": [],
   "source": [
    "# Create crosstab for 'Region' column and 'spending_flag'\n",
    "\n",
    "crosstab = pd.crosstab(df_customers_merged['Region'], df_customers_merged['spending_flag'], dropna = False)"
   ]
  },
  {
   "cell_type": "code",
   "execution_count": 11,
   "metadata": {},
   "outputs": [],
   "source": [
    "# Copy crosstab to clipboard \n",
    "\n",
    "crosstab.to_clipboard()"
   ]
  },
  {
   "cell_type": "code",
   "execution_count": 12,
   "metadata": {},
   "outputs": [
    {
     "data": {
      "text/html": [
       "<div>\n",
       "<style scoped>\n",
       "    .dataframe tbody tr th:only-of-type {\n",
       "        vertical-align: middle;\n",
       "    }\n",
       "\n",
       "    .dataframe tbody tr th {\n",
       "        vertical-align: top;\n",
       "    }\n",
       "\n",
       "    .dataframe thead th {\n",
       "        text-align: right;\n",
       "    }\n",
       "</style>\n",
       "<table border=\"1\" class=\"dataframe\">\n",
       "  <thead>\n",
       "    <tr style=\"text-align: right;\">\n",
       "      <th>spending_flag</th>\n",
       "      <th>High spender</th>\n",
       "      <th>Low spender</th>\n",
       "    </tr>\n",
       "    <tr>\n",
       "      <th>Region</th>\n",
       "      <th></th>\n",
       "      <th></th>\n",
       "    </tr>\n",
       "  </thead>\n",
       "  <tbody>\n",
       "    <tr>\n",
       "      <th>Midwest</th>\n",
       "      <td>156047</td>\n",
       "      <td>7447813</td>\n",
       "    </tr>\n",
       "    <tr>\n",
       "      <th>Northeast</th>\n",
       "      <td>108341</td>\n",
       "      <td>5619989</td>\n",
       "    </tr>\n",
       "    <tr>\n",
       "      <th>South</th>\n",
       "      <td>210144</td>\n",
       "      <td>10591423</td>\n",
       "    </tr>\n",
       "    <tr>\n",
       "      <th>West</th>\n",
       "      <td>160771</td>\n",
       "      <td>8139642</td>\n",
       "    </tr>\n",
       "  </tbody>\n",
       "</table>\n",
       "</div>"
      ],
      "text/plain": [
       "spending_flag  High spender  Low spender\n",
       "Region                                  \n",
       "Midwest              156047      7447813\n",
       "Northeast            108341      5619989\n",
       "South                210144     10591423\n",
       "West                 160771      8139642"
      ]
     },
     "execution_count": 12,
     "metadata": {},
     "output_type": "execute_result"
    }
   ],
   "source": [
    "# View crosstab\n",
    "\n",
    "crosstab"
   ]
  },
  {
   "cell_type": "markdown",
   "metadata": {},
   "source": [
    "### 4. The Instacart CFO isn’t interested in customers who don’t generate much revenue for the app. Create an exclusion flag for low-activity customers (customers with less than 5 orders) and exclude them from the data. Make sure you export this sample."
   ]
  },
  {
   "cell_type": "code",
   "execution_count": 13,
   "metadata": {},
   "outputs": [
    {
     "data": {
      "text/plain": [
       "(32434170, 37)"
      ]
     },
     "execution_count": 13,
     "metadata": {},
     "output_type": "execute_result"
    }
   ],
   "source": [
    "# Check shape of dateframe\n",
    "\n",
    "df_customers_merged.shape"
   ]
  },
  {
   "cell_type": "code",
   "execution_count": 14,
   "metadata": {},
   "outputs": [],
   "source": [
    "# Create 'If' statement using loc() function for low activity customers\n",
    "\n",
    "df_customers_merged.loc[df_customers_merged['order_number'] < 5, 'Activity_Flag'] = 'Low_Activity'"
   ]
  },
  {
   "cell_type": "code",
   "execution_count": 15,
   "metadata": {},
   "outputs": [],
   "source": [
    "# Create 'If' statement using loc() function for high activity customers\n",
    "\n",
    "df_customers_merged.loc[df_customers_merged['order_number'] > 5, 'Activity_Flag'] = 'High_Activity'"
   ]
  },
  {
   "cell_type": "code",
   "execution_count": 16,
   "metadata": {},
   "outputs": [
    {
     "data": {
      "text/plain": [
       "High_Activity    22808339\n",
       "Low_Activity      7997415\n",
       "NaN               1628416\n",
       "Name: Activity_Flag, dtype: int64"
      ]
     },
     "execution_count": 16,
     "metadata": {},
     "output_type": "execute_result"
    }
   ],
   "source": [
    "# Check frequency of 'Activity_Flag' column\n",
    "\n",
    "df_customers_merged['Activity_Flag'].value_counts(dropna=False)"
   ]
  },
  {
   "cell_type": "code",
   "execution_count": 17,
   "metadata": {},
   "outputs": [],
   "source": [
    "# Create Low_Activity dataframe\n",
    "\n",
    "df_low_activity = df_customers_merged[df_customers_merged.Activity_Flag == 'Low_Activity']"
   ]
  },
  {
   "cell_type": "code",
   "execution_count": 18,
   "metadata": {},
   "outputs": [
    {
     "data": {
      "text/plain": [
       "Low_Activity    7997415\n",
       "Name: Activity_Flag, dtype: int64"
      ]
     },
     "execution_count": 18,
     "metadata": {},
     "output_type": "execute_result"
    }
   ],
   "source": [
    "# Check frequency of Low_Activity dataframe \n",
    "\n",
    "df_low_activity ['Activity_Flag'].value_counts(dropna= False)"
   ]
  },
  {
   "cell_type": "code",
   "execution_count": 19,
   "metadata": {},
   "outputs": [],
   "source": [
    "# Export df_low_activity \n",
    "\n",
    "df_low_activity.to_pickle(os.path.join(path,'02 Data','Prepared Data', 'df_low_activity.pkl'))"
   ]
  },
  {
   "cell_type": "code",
   "execution_count": 20,
   "metadata": {},
   "outputs": [],
   "source": [
    "# Exclude Low_Activity customers from dataframe\n",
    "\n",
    "df_customers_merged = df_customers_merged[df_customers_merged.Activity_Flag == 'High_Activity']"
   ]
  },
  {
   "cell_type": "code",
   "execution_count": 23,
   "metadata": {},
   "outputs": [
    {
     "data": {
      "text/plain": [
       "(22808339, 38)"
      ]
     },
     "execution_count": 23,
     "metadata": {},
     "output_type": "execute_result"
    }
   ],
   "source": [
    "# Check df_customers_merged shape\n",
    "\n",
    "df_customers_merged.shape"
   ]
  },
  {
   "cell_type": "code",
   "execution_count": 25,
   "metadata": {},
   "outputs": [],
   "source": [
    "# Export df_customers_merged to save progress\n",
    "\n",
    "df_customers_merged.to_pickle(os.path.join(path,'02 Data','Prepared Data', 'df_high_activity.pkl'))"
   ]
  },
  {
   "cell_type": "markdown",
   "metadata": {},
   "source": [
    "### 5. The marketing and business strategy units at Instacart want to create more-relevant marketing strategies for different products and are, thus, curious about customer profiling in their database. Create a profiling variable based on age, income, certain goods in the “department_id” column, and number of dependants. You might also use the “orders_day_of_the_week” and “order_hour_of_day” columns if you can think of a way they would impact customer profiles. (Hint: As an example, try thinking of what characteristics would lead you to the profile “Single adult” or “Young parent.”)"
   ]
  },
  {
   "cell_type": "code",
   "execution_count": 4,
   "metadata": {},
   "outputs": [],
   "source": [
    "# Import dataframe\n",
    "\n",
    "df = pd.read_pickle(os.path.join(path,'02 Data', 'Prepared Data', 'df_high_activity.pkl'))"
   ]
  },
  {
   "cell_type": "code",
   "execution_count": 30,
   "metadata": {},
   "outputs": [],
   "source": [
    "# Import department dataframe\n",
    "\n",
    "df_dep = pd.read_csv(os.path.join(path,'02 Data', 'Original Data', 'departments.csv'), index_col = False)"
   ]
  },
  {
   "cell_type": "code",
   "execution_count": 31,
   "metadata": {},
   "outputs": [
    {
     "data": {
      "text/html": [
       "<div>\n",
       "<style scoped>\n",
       "    .dataframe tbody tr th:only-of-type {\n",
       "        vertical-align: middle;\n",
       "    }\n",
       "\n",
       "    .dataframe tbody tr th {\n",
       "        vertical-align: top;\n",
       "    }\n",
       "\n",
       "    .dataframe thead th {\n",
       "        text-align: right;\n",
       "    }\n",
       "</style>\n",
       "<table border=\"1\" class=\"dataframe\">\n",
       "  <thead>\n",
       "    <tr style=\"text-align: right;\">\n",
       "      <th></th>\n",
       "      <th>0</th>\n",
       "    </tr>\n",
       "  </thead>\n",
       "  <tbody>\n",
       "    <tr>\n",
       "      <th>department_id</th>\n",
       "      <td>department</td>\n",
       "    </tr>\n",
       "    <tr>\n",
       "      <th>1</th>\n",
       "      <td>frozen</td>\n",
       "    </tr>\n",
       "    <tr>\n",
       "      <th>2</th>\n",
       "      <td>other</td>\n",
       "    </tr>\n",
       "    <tr>\n",
       "      <th>3</th>\n",
       "      <td>bakery</td>\n",
       "    </tr>\n",
       "    <tr>\n",
       "      <th>4</th>\n",
       "      <td>produce</td>\n",
       "    </tr>\n",
       "    <tr>\n",
       "      <th>5</th>\n",
       "      <td>alcohol</td>\n",
       "    </tr>\n",
       "    <tr>\n",
       "      <th>6</th>\n",
       "      <td>international</td>\n",
       "    </tr>\n",
       "    <tr>\n",
       "      <th>7</th>\n",
       "      <td>beverages</td>\n",
       "    </tr>\n",
       "    <tr>\n",
       "      <th>8</th>\n",
       "      <td>pets</td>\n",
       "    </tr>\n",
       "    <tr>\n",
       "      <th>9</th>\n",
       "      <td>dry goods pasta</td>\n",
       "    </tr>\n",
       "    <tr>\n",
       "      <th>10</th>\n",
       "      <td>bulk</td>\n",
       "    </tr>\n",
       "    <tr>\n",
       "      <th>11</th>\n",
       "      <td>personal care</td>\n",
       "    </tr>\n",
       "    <tr>\n",
       "      <th>12</th>\n",
       "      <td>meat seafood</td>\n",
       "    </tr>\n",
       "    <tr>\n",
       "      <th>13</th>\n",
       "      <td>pantry</td>\n",
       "    </tr>\n",
       "    <tr>\n",
       "      <th>14</th>\n",
       "      <td>breakfast</td>\n",
       "    </tr>\n",
       "    <tr>\n",
       "      <th>15</th>\n",
       "      <td>canned goods</td>\n",
       "    </tr>\n",
       "    <tr>\n",
       "      <th>16</th>\n",
       "      <td>dairy eggs</td>\n",
       "    </tr>\n",
       "    <tr>\n",
       "      <th>17</th>\n",
       "      <td>household</td>\n",
       "    </tr>\n",
       "    <tr>\n",
       "      <th>18</th>\n",
       "      <td>babies</td>\n",
       "    </tr>\n",
       "    <tr>\n",
       "      <th>19</th>\n",
       "      <td>snacks</td>\n",
       "    </tr>\n",
       "    <tr>\n",
       "      <th>20</th>\n",
       "      <td>deli</td>\n",
       "    </tr>\n",
       "    <tr>\n",
       "      <th>21</th>\n",
       "      <td>missing</td>\n",
       "    </tr>\n",
       "  </tbody>\n",
       "</table>\n",
       "</div>"
      ],
      "text/plain": [
       "                             0\n",
       "department_id       department\n",
       "1                       frozen\n",
       "2                        other\n",
       "3                       bakery\n",
       "4                      produce\n",
       "5                      alcohol\n",
       "6                international\n",
       "7                    beverages\n",
       "8                         pets\n",
       "9              dry goods pasta\n",
       "10                        bulk\n",
       "11               personal care\n",
       "12                meat seafood\n",
       "13                      pantry\n",
       "14                   breakfast\n",
       "15                canned goods\n",
       "16                  dairy eggs\n",
       "17                   household\n",
       "18                      babies\n",
       "19                      snacks\n",
       "20                        deli\n",
       "21                     missing"
      ]
     },
     "execution_count": 31,
     "metadata": {},
     "output_type": "execute_result"
    }
   ],
   "source": [
    "# View department dataframe\n",
    "\n",
    "df_dep_t = df_dep.T\n",
    "\n",
    "df_dep_t "
   ]
  },
  {
   "cell_type": "code",
   "execution_count": 32,
   "metadata": {},
   "outputs": [],
   "source": [
    "# Create baby profile\n",
    "\n",
    "baby = pd.crosstab(df['user_id'], df['department_id_x'] == 18, dropna=False )"
   ]
  },
  {
   "cell_type": "code",
   "execution_count": 33,
   "metadata": {},
   "outputs": [
    {
     "data": {
      "text/html": [
       "<div>\n",
       "<style scoped>\n",
       "    .dataframe tbody tr th:only-of-type {\n",
       "        vertical-align: middle;\n",
       "    }\n",
       "\n",
       "    .dataframe tbody tr th {\n",
       "        vertical-align: top;\n",
       "    }\n",
       "\n",
       "    .dataframe thead th {\n",
       "        text-align: right;\n",
       "    }\n",
       "</style>\n",
       "<table border=\"1\" class=\"dataframe\">\n",
       "  <thead>\n",
       "    <tr style=\"text-align: right;\">\n",
       "      <th>department_id_x</th>\n",
       "      <th>False</th>\n",
       "      <th>True</th>\n",
       "    </tr>\n",
       "    <tr>\n",
       "      <th>user_id</th>\n",
       "      <th></th>\n",
       "      <th></th>\n",
       "    </tr>\n",
       "  </thead>\n",
       "  <tbody>\n",
       "    <tr>\n",
       "      <th>1</th>\n",
       "      <td>30</td>\n",
       "      <td>0</td>\n",
       "    </tr>\n",
       "    <tr>\n",
       "      <th>2</th>\n",
       "      <td>145</td>\n",
       "      <td>0</td>\n",
       "    </tr>\n",
       "    <tr>\n",
       "      <th>3</th>\n",
       "      <td>47</td>\n",
       "      <td>0</td>\n",
       "    </tr>\n",
       "    <tr>\n",
       "      <th>7</th>\n",
       "      <td>123</td>\n",
       "      <td>0</td>\n",
       "    </tr>\n",
       "    <tr>\n",
       "      <th>11</th>\n",
       "      <td>32</td>\n",
       "      <td>0</td>\n",
       "    </tr>\n",
       "    <tr>\n",
       "      <th>...</th>\n",
       "      <td>...</td>\n",
       "      <td>...</td>\n",
       "    </tr>\n",
       "    <tr>\n",
       "      <th>206202</th>\n",
       "      <td>147</td>\n",
       "      <td>0</td>\n",
       "    </tr>\n",
       "    <tr>\n",
       "      <th>206206</th>\n",
       "      <td>271</td>\n",
       "      <td>0</td>\n",
       "    </tr>\n",
       "    <tr>\n",
       "      <th>206207</th>\n",
       "      <td>134</td>\n",
       "      <td>0</td>\n",
       "    </tr>\n",
       "    <tr>\n",
       "      <th>206208</th>\n",
       "      <td>619</td>\n",
       "      <td>3</td>\n",
       "    </tr>\n",
       "    <tr>\n",
       "      <th>206209</th>\n",
       "      <td>73</td>\n",
       "      <td>0</td>\n",
       "    </tr>\n",
       "  </tbody>\n",
       "</table>\n",
       "<p>146468 rows × 2 columns</p>\n",
       "</div>"
      ],
      "text/plain": [
       "department_id_x  False  True \n",
       "user_id                      \n",
       "1                   30      0\n",
       "2                  145      0\n",
       "3                   47      0\n",
       "7                  123      0\n",
       "11                  32      0\n",
       "...                ...    ...\n",
       "206202             147      0\n",
       "206206             271      0\n",
       "206207             134      0\n",
       "206208             619      3\n",
       "206209              73      0\n",
       "\n",
       "[146468 rows x 2 columns]"
      ]
     },
     "execution_count": 33,
     "metadata": {},
     "output_type": "execute_result"
    }
   ],
   "source": [
    "baby"
   ]
  },
  {
   "cell_type": "code",
   "execution_count": 34,
   "metadata": {},
   "outputs": [],
   "source": [
    "# Move to excel for further manipulation\n",
    "\n",
    "baby.to_clipboard()"
   ]
  },
  {
   "cell_type": "code",
   "execution_count": 4,
   "metadata": {},
   "outputs": [],
   "source": [
    "# Import profile.csv from excel\n",
    "\n",
    "df_baby = pd.read_csv(r'/Users/laceymarchment/Desktop/profile.csv')"
   ]
  },
  {
   "cell_type": "code",
   "execution_count": 5,
   "metadata": {},
   "outputs": [
    {
     "data": {
      "text/html": [
       "<div>\n",
       "<style scoped>\n",
       "    .dataframe tbody tr th:only-of-type {\n",
       "        vertical-align: middle;\n",
       "    }\n",
       "\n",
       "    .dataframe tbody tr th {\n",
       "        vertical-align: top;\n",
       "    }\n",
       "\n",
       "    .dataframe thead th {\n",
       "        text-align: right;\n",
       "    }\n",
       "</style>\n",
       "<table border=\"1\" class=\"dataframe\">\n",
       "  <thead>\n",
       "    <tr style=\"text-align: right;\">\n",
       "      <th></th>\n",
       "      <th>user_id</th>\n",
       "      <th>baby_profile</th>\n",
       "    </tr>\n",
       "  </thead>\n",
       "  <tbody>\n",
       "    <tr>\n",
       "      <th>0</th>\n",
       "      <td>1</td>\n",
       "      <td>No Baby</td>\n",
       "    </tr>\n",
       "    <tr>\n",
       "      <th>1</th>\n",
       "      <td>2</td>\n",
       "      <td>No Baby</td>\n",
       "    </tr>\n",
       "    <tr>\n",
       "      <th>2</th>\n",
       "      <td>3</td>\n",
       "      <td>No Baby</td>\n",
       "    </tr>\n",
       "    <tr>\n",
       "      <th>3</th>\n",
       "      <td>7</td>\n",
       "      <td>No Baby</td>\n",
       "    </tr>\n",
       "    <tr>\n",
       "      <th>4</th>\n",
       "      <td>11</td>\n",
       "      <td>No Baby</td>\n",
       "    </tr>\n",
       "    <tr>\n",
       "      <th>...</th>\n",
       "      <td>...</td>\n",
       "      <td>...</td>\n",
       "    </tr>\n",
       "    <tr>\n",
       "      <th>146463</th>\n",
       "      <td>206202</td>\n",
       "      <td>No Baby</td>\n",
       "    </tr>\n",
       "    <tr>\n",
       "      <th>146464</th>\n",
       "      <td>206206</td>\n",
       "      <td>No Baby</td>\n",
       "    </tr>\n",
       "    <tr>\n",
       "      <th>146465</th>\n",
       "      <td>206207</td>\n",
       "      <td>No Baby</td>\n",
       "    </tr>\n",
       "    <tr>\n",
       "      <th>146466</th>\n",
       "      <td>206208</td>\n",
       "      <td>Baby</td>\n",
       "    </tr>\n",
       "    <tr>\n",
       "      <th>146467</th>\n",
       "      <td>206209</td>\n",
       "      <td>No Baby</td>\n",
       "    </tr>\n",
       "  </tbody>\n",
       "</table>\n",
       "<p>146468 rows × 2 columns</p>\n",
       "</div>"
      ],
      "text/plain": [
       "        user_id baby_profile\n",
       "0             1      No Baby\n",
       "1             2      No Baby\n",
       "2             3      No Baby\n",
       "3             7      No Baby\n",
       "4            11      No Baby\n",
       "...         ...          ...\n",
       "146463   206202      No Baby\n",
       "146464   206206      No Baby\n",
       "146465   206207      No Baby\n",
       "146466   206208         Baby\n",
       "146467   206209      No Baby\n",
       "\n",
       "[146468 rows x 2 columns]"
      ]
     },
     "execution_count": 5,
     "metadata": {},
     "output_type": "execute_result"
    }
   ],
   "source": [
    "df_baby"
   ]
  },
  {
   "cell_type": "code",
   "execution_count": 53,
   "metadata": {},
   "outputs": [
    {
     "data": {
      "text/plain": [
       "No Baby    122587\n",
       "Baby        23881\n",
       "Name: baby_profile, dtype: int64"
      ]
     },
     "execution_count": 53,
     "metadata": {},
     "output_type": "execute_result"
    }
   ],
   "source": [
    "# Check frequency \n",
    "\n",
    "df_baby['baby_profile'].value_counts(dropna= False)"
   ]
  },
  {
   "cell_type": "code",
   "execution_count": 7,
   "metadata": {},
   "outputs": [],
   "source": [
    "# Merge df_baby with df\n",
    "\n",
    "df = df.merge(df_baby, on = 'user_id', indicator = True)"
   ]
  },
  {
   "cell_type": "code",
   "execution_count": 7,
   "metadata": {},
   "outputs": [],
   "source": [
    "# Drop _merge colummn\n",
    "\n",
    "df_profiles = df.drop(columns = ['_merge'])"
   ]
  },
  {
   "cell_type": "code",
   "execution_count": 6,
   "metadata": {},
   "outputs": [],
   "source": [
    "# Reduce storage for columns\n",
    "\n",
    "df['order_number'] = df[\"order_number\"].astype(\"int8\")\n",
    "df['order_dow'] = df[\"order_dow\"].astype(\"int8\")\n",
    "df['order_hour_of_day'] = df[\"order_hour_of_day\"].astype(\"int8\")\n",
    "df['days_since_prior_order'] = df[\"days_since_prior_order\"].astype(\"int8\")\n",
    "df['add_to_cart_order'] = df[\"add_to_cart_order\"].astype(\"int8\")\n",
    "df['reordered'] = df[\"reordered\"].astype(\"int8\")\n",
    "df['Age'] = df[\"Age\"].astype(\"int8\")\n",
    "df['n_dependants'] = df[\"n_dependants\"].astype(\"int8\")"
   ]
  },
  {
   "cell_type": "code",
   "execution_count": 23,
   "metadata": {},
   "outputs": [
    {
     "data": {
      "text/plain": [
       "No Baby    15432347\n",
       "Baby        7375992\n",
       "Name: baby_profile, dtype: int64"
      ]
     },
     "execution_count": 23,
     "metadata": {},
     "output_type": "execute_result"
    }
   ],
   "source": [
    "df_profiles_merged['baby_profile'].value_counts(dropna= False)"
   ]
  },
  {
   "cell_type": "code",
   "execution_count": 21,
   "metadata": {},
   "outputs": [],
   "source": [
    "# Export df\n",
    "\n",
    "df.to_pickle(os.path.join(path, '02 Data','Prepared Data', 'df_profiles_merged.pkl'))"
   ]
  },
  {
   "cell_type": "code",
   "execution_count": null,
   "metadata": {},
   "outputs": [],
   "source": [
    "# Export df\n",
    "\n",
    "df_baby.to_pickle(r'/Users/laceymarchment/Desktop/baby.pkl')"
   ]
  },
  {
   "cell_type": "markdown",
   "metadata": {},
   "source": [
    "#### Income Variable"
   ]
  },
  {
   "cell_type": "code",
   "execution_count": 13,
   "metadata": {},
   "outputs": [
    {
     "data": {
      "text/plain": [
       "count    2.280834e+07\n",
       "mean     9.996822e+04\n",
       "std      4.339390e+04\n",
       "min      2.590300e+04\n",
       "25%      6.762800e+04\n",
       "50%      9.686200e+04\n",
       "75%      1.281820e+05\n",
       "max      5.939010e+05\n",
       "Name: income, dtype: float64"
      ]
     },
     "execution_count": 13,
     "metadata": {},
     "output_type": "execute_result"
    }
   ],
   "source": [
    "df['income'].describe()"
   ]
  },
  {
   "cell_type": "code",
   "execution_count": 14,
   "metadata": {},
   "outputs": [],
   "source": [
    "# \n",
    "\n",
    "df['income_profile'] = df.groupby(['user_id'])['income'].transform('max')"
   ]
  },
  {
   "cell_type": "code",
   "execution_count": 15,
   "metadata": {},
   "outputs": [
    {
     "data": {
      "text/html": [
       "<div>\n",
       "<style scoped>\n",
       "    .dataframe tbody tr th:only-of-type {\n",
       "        vertical-align: middle;\n",
       "    }\n",
       "\n",
       "    .dataframe tbody tr th {\n",
       "        vertical-align: top;\n",
       "    }\n",
       "\n",
       "    .dataframe thead th {\n",
       "        text-align: right;\n",
       "    }\n",
       "</style>\n",
       "<table border=\"1\" class=\"dataframe\">\n",
       "  <thead>\n",
       "    <tr style=\"text-align: right;\">\n",
       "      <th></th>\n",
       "      <th>Unnamed: 0_x</th>\n",
       "      <th>order_id</th>\n",
       "      <th>user_id</th>\n",
       "      <th>order_number</th>\n",
       "      <th>order_dow</th>\n",
       "      <th>order_hour_of_day</th>\n",
       "      <th>days_since_prior_order</th>\n",
       "      <th>product_id</th>\n",
       "      <th>add_to_cart_order</th>\n",
       "      <th>reordered</th>\n",
       "      <th>...</th>\n",
       "      <th>State</th>\n",
       "      <th>Age</th>\n",
       "      <th>date_joined</th>\n",
       "      <th>n_dependants</th>\n",
       "      <th>fam_status</th>\n",
       "      <th>income</th>\n",
       "      <th>Region</th>\n",
       "      <th>Activity_Flag</th>\n",
       "      <th>baby_profile</th>\n",
       "      <th>income_profile</th>\n",
       "    </tr>\n",
       "  </thead>\n",
       "  <tbody>\n",
       "    <tr>\n",
       "      <th>0</th>\n",
       "      <td>5</td>\n",
       "      <td>3367565</td>\n",
       "      <td>1</td>\n",
       "      <td>6</td>\n",
       "      <td>2</td>\n",
       "      <td>7</td>\n",
       "      <td>19</td>\n",
       "      <td>196</td>\n",
       "      <td>1</td>\n",
       "      <td>1</td>\n",
       "      <td>...</td>\n",
       "      <td>Alabama</td>\n",
       "      <td>31</td>\n",
       "      <td>2/17/2019</td>\n",
       "      <td>3</td>\n",
       "      <td>married</td>\n",
       "      <td>40423</td>\n",
       "      <td>South</td>\n",
       "      <td>High_Activity</td>\n",
       "      <td>No Baby</td>\n",
       "      <td>40423</td>\n",
       "    </tr>\n",
       "  </tbody>\n",
       "</table>\n",
       "<p>1 rows × 39 columns</p>\n",
       "</div>"
      ],
      "text/plain": [
       "   Unnamed: 0_x  order_id  user_id  order_number  order_dow  \\\n",
       "0             5   3367565        1             6          2   \n",
       "\n",
       "   order_hour_of_day  days_since_prior_order  product_id  add_to_cart_order  \\\n",
       "0                  7                      19         196                  1   \n",
       "\n",
       "   reordered  ...    State Age  date_joined  n_dependants  fam_status income  \\\n",
       "0          1  ...  Alabama  31    2/17/2019             3     married  40423   \n",
       "\n",
       "   Region  Activity_Flag  baby_profile  income_profile  \n",
       "0   South  High_Activity       No Baby           40423  \n",
       "\n",
       "[1 rows x 39 columns]"
      ]
     },
     "execution_count": 15,
     "metadata": {},
     "output_type": "execute_result"
    }
   ],
   "source": [
    "df.head(1)"
   ]
  },
  {
   "cell_type": "code",
   "execution_count": 16,
   "metadata": {},
   "outputs": [],
   "source": [
    "#\n",
    "\n",
    "df.loc[df['income_profile'] <= 67628, 'income_flag'] = 'Lower Income'"
   ]
  },
  {
   "cell_type": "code",
   "execution_count": 17,
   "metadata": {},
   "outputs": [],
   "source": [
    "#\n",
    "\n",
    "df.loc[(df['income_profile'] < 128182) & (df['income_profile'] > 67628), 'income_flag'] = 'Average Income'"
   ]
  },
  {
   "cell_type": "code",
   "execution_count": 18,
   "metadata": {},
   "outputs": [],
   "source": [
    "# \n",
    "\n",
    "df.loc[df['income_profile'] >= 128182, 'income_flag'] = 'Higher Income'"
   ]
  },
  {
   "cell_type": "code",
   "execution_count": 19,
   "metadata": {},
   "outputs": [
    {
     "data": {
      "text/plain": [
       "Average Income    11403868\n",
       "Higher Income      5702302\n",
       "Lower Income       5702169\n",
       "Name: income_flag, dtype: int64"
      ]
     },
     "execution_count": 19,
     "metadata": {},
     "output_type": "execute_result"
    }
   ],
   "source": [
    "#\n",
    "\n",
    "df['income_flag'].value_counts(dropna= False)"
   ]
  },
  {
   "cell_type": "code",
   "execution_count": null,
   "metadata": {},
   "outputs": [],
   "source": [
    "# create .loc for each variable \n",
    "# merge each variable main df OR create new df with columns needed (by dropping all other columns)\n",
    "# look at bar graphs for each variable - q6. \n",
    "# hour of day and da of week for for each variable to answer q7."
   ]
  },
  {
   "cell_type": "code",
   "execution_count": 21,
   "metadata": {},
   "outputs": [],
   "source": [
    "#\n",
    "\n",
    "income = pd.crosstab(df['user_id'], df['income_flag'], dropna=False)"
   ]
  },
  {
   "cell_type": "code",
   "execution_count": 22,
   "metadata": {},
   "outputs": [
    {
     "data": {
      "text/html": [
       "<div>\n",
       "<style scoped>\n",
       "    .dataframe tbody tr th:only-of-type {\n",
       "        vertical-align: middle;\n",
       "    }\n",
       "\n",
       "    .dataframe tbody tr th {\n",
       "        vertical-align: top;\n",
       "    }\n",
       "\n",
       "    .dataframe thead th {\n",
       "        text-align: right;\n",
       "    }\n",
       "</style>\n",
       "<table border=\"1\" class=\"dataframe\">\n",
       "  <thead>\n",
       "    <tr style=\"text-align: right;\">\n",
       "      <th>income_flag</th>\n",
       "      <th>Average Income</th>\n",
       "      <th>Higher Income</th>\n",
       "      <th>Lower Income</th>\n",
       "    </tr>\n",
       "    <tr>\n",
       "      <th>user_id</th>\n",
       "      <th></th>\n",
       "      <th></th>\n",
       "      <th></th>\n",
       "    </tr>\n",
       "  </thead>\n",
       "  <tbody>\n",
       "    <tr>\n",
       "      <th>1</th>\n",
       "      <td>0</td>\n",
       "      <td>0</td>\n",
       "      <td>30</td>\n",
       "    </tr>\n",
       "    <tr>\n",
       "      <th>2</th>\n",
       "      <td>0</td>\n",
       "      <td>0</td>\n",
       "      <td>145</td>\n",
       "    </tr>\n",
       "    <tr>\n",
       "      <th>3</th>\n",
       "      <td>47</td>\n",
       "      <td>0</td>\n",
       "      <td>0</td>\n",
       "    </tr>\n",
       "    <tr>\n",
       "      <th>7</th>\n",
       "      <td>123</td>\n",
       "      <td>0</td>\n",
       "      <td>0</td>\n",
       "    </tr>\n",
       "    <tr>\n",
       "      <th>11</th>\n",
       "      <td>0</td>\n",
       "      <td>32</td>\n",
       "      <td>0</td>\n",
       "    </tr>\n",
       "    <tr>\n",
       "      <th>...</th>\n",
       "      <td>...</td>\n",
       "      <td>...</td>\n",
       "      <td>...</td>\n",
       "    </tr>\n",
       "    <tr>\n",
       "      <th>206202</th>\n",
       "      <td>147</td>\n",
       "      <td>0</td>\n",
       "      <td>0</td>\n",
       "    </tr>\n",
       "    <tr>\n",
       "      <th>206206</th>\n",
       "      <td>271</td>\n",
       "      <td>0</td>\n",
       "      <td>0</td>\n",
       "    </tr>\n",
       "    <tr>\n",
       "      <th>206207</th>\n",
       "      <td>134</td>\n",
       "      <td>0</td>\n",
       "      <td>0</td>\n",
       "    </tr>\n",
       "    <tr>\n",
       "      <th>206208</th>\n",
       "      <td>0</td>\n",
       "      <td>622</td>\n",
       "      <td>0</td>\n",
       "    </tr>\n",
       "    <tr>\n",
       "      <th>206209</th>\n",
       "      <td>0</td>\n",
       "      <td>73</td>\n",
       "      <td>0</td>\n",
       "    </tr>\n",
       "  </tbody>\n",
       "</table>\n",
       "<p>146468 rows × 3 columns</p>\n",
       "</div>"
      ],
      "text/plain": [
       "income_flag  Average Income  Higher Income  Lower Income\n",
       "user_id                                                 \n",
       "1                         0              0            30\n",
       "2                         0              0           145\n",
       "3                        47              0             0\n",
       "7                       123              0             0\n",
       "11                        0             32             0\n",
       "...                     ...            ...           ...\n",
       "206202                  147              0             0\n",
       "206206                  271              0             0\n",
       "206207                  134              0             0\n",
       "206208                    0            622             0\n",
       "206209                    0             73             0\n",
       "\n",
       "[146468 rows x 3 columns]"
      ]
     },
     "execution_count": 22,
     "metadata": {},
     "output_type": "execute_result"
    }
   ],
   "source": [
    "income"
   ]
  },
  {
   "cell_type": "code",
   "execution_count": 25,
   "metadata": {},
   "outputs": [],
   "source": [
    "# to_clipboard() means copy n paste into excel\n",
    "\n",
    "income.to_clipboard()"
   ]
  },
  {
   "cell_type": "code",
   "execution_count": 24,
   "metadata": {},
   "outputs": [],
   "source": [
    "# Import income.csv"
   ]
  },
  {
   "cell_type": "code",
   "execution_count": 26,
   "metadata": {},
   "outputs": [
    {
     "data": {
      "text/html": [
       "<div>\n",
       "<style scoped>\n",
       "    .dataframe tbody tr th:only-of-type {\n",
       "        vertical-align: middle;\n",
       "    }\n",
       "\n",
       "    .dataframe tbody tr th {\n",
       "        vertical-align: top;\n",
       "    }\n",
       "\n",
       "    .dataframe thead th {\n",
       "        text-align: right;\n",
       "    }\n",
       "</style>\n",
       "<table border=\"1\" class=\"dataframe\">\n",
       "  <thead>\n",
       "    <tr style=\"text-align: right;\">\n",
       "      <th></th>\n",
       "      <th>Unnamed: 0_x</th>\n",
       "      <th>order_id</th>\n",
       "      <th>user_id</th>\n",
       "      <th>order_number</th>\n",
       "      <th>order_dow</th>\n",
       "      <th>order_hour_of_day</th>\n",
       "      <th>days_since_prior_order</th>\n",
       "      <th>product_id</th>\n",
       "      <th>add_to_cart_order</th>\n",
       "      <th>reordered</th>\n",
       "      <th>...</th>\n",
       "      <th>State</th>\n",
       "      <th>Age</th>\n",
       "      <th>date_joined</th>\n",
       "      <th>n_dependants</th>\n",
       "      <th>fam_status</th>\n",
       "      <th>income</th>\n",
       "      <th>Region</th>\n",
       "      <th>Activity_Flag</th>\n",
       "      <th>income_profile</th>\n",
       "      <th>income_flag</th>\n",
       "    </tr>\n",
       "  </thead>\n",
       "  <tbody>\n",
       "    <tr>\n",
       "      <th>5</th>\n",
       "      <td>5</td>\n",
       "      <td>3367565</td>\n",
       "      <td>1</td>\n",
       "      <td>6</td>\n",
       "      <td>2</td>\n",
       "      <td>7</td>\n",
       "      <td>19</td>\n",
       "      <td>196</td>\n",
       "      <td>1</td>\n",
       "      <td>1</td>\n",
       "      <td>...</td>\n",
       "      <td>Alabama</td>\n",
       "      <td>31</td>\n",
       "      <td>2/17/2019</td>\n",
       "      <td>3</td>\n",
       "      <td>married</td>\n",
       "      <td>40423</td>\n",
       "      <td>South</td>\n",
       "      <td>High_Activity</td>\n",
       "      <td>40423</td>\n",
       "      <td>Lower Income</td>\n",
       "    </tr>\n",
       "    <tr>\n",
       "      <th>6</th>\n",
       "      <td>6</td>\n",
       "      <td>550135</td>\n",
       "      <td>1</td>\n",
       "      <td>7</td>\n",
       "      <td>1</td>\n",
       "      <td>9</td>\n",
       "      <td>20</td>\n",
       "      <td>196</td>\n",
       "      <td>1</td>\n",
       "      <td>1</td>\n",
       "      <td>...</td>\n",
       "      <td>Alabama</td>\n",
       "      <td>31</td>\n",
       "      <td>2/17/2019</td>\n",
       "      <td>3</td>\n",
       "      <td>married</td>\n",
       "      <td>40423</td>\n",
       "      <td>South</td>\n",
       "      <td>High_Activity</td>\n",
       "      <td>40423</td>\n",
       "      <td>Lower Income</td>\n",
       "    </tr>\n",
       "    <tr>\n",
       "      <th>7</th>\n",
       "      <td>7</td>\n",
       "      <td>3108588</td>\n",
       "      <td>1</td>\n",
       "      <td>8</td>\n",
       "      <td>1</td>\n",
       "      <td>14</td>\n",
       "      <td>14</td>\n",
       "      <td>196</td>\n",
       "      <td>2</td>\n",
       "      <td>1</td>\n",
       "      <td>...</td>\n",
       "      <td>Alabama</td>\n",
       "      <td>31</td>\n",
       "      <td>2/17/2019</td>\n",
       "      <td>3</td>\n",
       "      <td>married</td>\n",
       "      <td>40423</td>\n",
       "      <td>South</td>\n",
       "      <td>High_Activity</td>\n",
       "      <td>40423</td>\n",
       "      <td>Lower Income</td>\n",
       "    </tr>\n",
       "    <tr>\n",
       "      <th>8</th>\n",
       "      <td>8</td>\n",
       "      <td>2295261</td>\n",
       "      <td>1</td>\n",
       "      <td>9</td>\n",
       "      <td>1</td>\n",
       "      <td>16</td>\n",
       "      <td>0</td>\n",
       "      <td>196</td>\n",
       "      <td>4</td>\n",
       "      <td>1</td>\n",
       "      <td>...</td>\n",
       "      <td>Alabama</td>\n",
       "      <td>31</td>\n",
       "      <td>2/17/2019</td>\n",
       "      <td>3</td>\n",
       "      <td>married</td>\n",
       "      <td>40423</td>\n",
       "      <td>South</td>\n",
       "      <td>High_Activity</td>\n",
       "      <td>40423</td>\n",
       "      <td>Lower Income</td>\n",
       "    </tr>\n",
       "    <tr>\n",
       "      <th>9</th>\n",
       "      <td>9</td>\n",
       "      <td>2550362</td>\n",
       "      <td>1</td>\n",
       "      <td>10</td>\n",
       "      <td>4</td>\n",
       "      <td>8</td>\n",
       "      <td>30</td>\n",
       "      <td>196</td>\n",
       "      <td>1</td>\n",
       "      <td>1</td>\n",
       "      <td>...</td>\n",
       "      <td>Alabama</td>\n",
       "      <td>31</td>\n",
       "      <td>2/17/2019</td>\n",
       "      <td>3</td>\n",
       "      <td>married</td>\n",
       "      <td>40423</td>\n",
       "      <td>South</td>\n",
       "      <td>High_Activity</td>\n",
       "      <td>40423</td>\n",
       "      <td>Lower Income</td>\n",
       "    </tr>\n",
       "    <tr>\n",
       "      <th>10</th>\n",
       "      <td>144</td>\n",
       "      <td>2968173</td>\n",
       "      <td>15</td>\n",
       "      <td>15</td>\n",
       "      <td>1</td>\n",
       "      <td>9</td>\n",
       "      <td>7</td>\n",
       "      <td>196</td>\n",
       "      <td>2</td>\n",
       "      <td>0</td>\n",
       "      <td>...</td>\n",
       "      <td>Indiana</td>\n",
       "      <td>69</td>\n",
       "      <td>6/3/2019</td>\n",
       "      <td>0</td>\n",
       "      <td>divorced/widowed</td>\n",
       "      <td>54313</td>\n",
       "      <td>Midwest</td>\n",
       "      <td>High_Activity</td>\n",
       "      <td>54313</td>\n",
       "      <td>Lower Income</td>\n",
       "    </tr>\n",
       "    <tr>\n",
       "      <th>11</th>\n",
       "      <td>146</td>\n",
       "      <td>1870022</td>\n",
       "      <td>15</td>\n",
       "      <td>17</td>\n",
       "      <td>2</td>\n",
       "      <td>16</td>\n",
       "      <td>8</td>\n",
       "      <td>196</td>\n",
       "      <td>6</td>\n",
       "      <td>1</td>\n",
       "      <td>...</td>\n",
       "      <td>Indiana</td>\n",
       "      <td>69</td>\n",
       "      <td>6/3/2019</td>\n",
       "      <td>0</td>\n",
       "      <td>divorced/widowed</td>\n",
       "      <td>54313</td>\n",
       "      <td>Midwest</td>\n",
       "      <td>High_Activity</td>\n",
       "      <td>54313</td>\n",
       "      <td>Lower Income</td>\n",
       "    </tr>\n",
       "    <tr>\n",
       "      <th>12</th>\n",
       "      <td>147</td>\n",
       "      <td>1911383</td>\n",
       "      <td>15</td>\n",
       "      <td>18</td>\n",
       "      <td>2</td>\n",
       "      <td>11</td>\n",
       "      <td>7</td>\n",
       "      <td>196</td>\n",
       "      <td>1</td>\n",
       "      <td>1</td>\n",
       "      <td>...</td>\n",
       "      <td>Indiana</td>\n",
       "      <td>69</td>\n",
       "      <td>6/3/2019</td>\n",
       "      <td>0</td>\n",
       "      <td>divorced/widowed</td>\n",
       "      <td>54313</td>\n",
       "      <td>Midwest</td>\n",
       "      <td>High_Activity</td>\n",
       "      <td>54313</td>\n",
       "      <td>Lower Income</td>\n",
       "    </tr>\n",
       "    <tr>\n",
       "      <th>13</th>\n",
       "      <td>150</td>\n",
       "      <td>2715276</td>\n",
       "      <td>15</td>\n",
       "      <td>21</td>\n",
       "      <td>1</td>\n",
       "      <td>9</td>\n",
       "      <td>7</td>\n",
       "      <td>196</td>\n",
       "      <td>1</td>\n",
       "      <td>1</td>\n",
       "      <td>...</td>\n",
       "      <td>Indiana</td>\n",
       "      <td>69</td>\n",
       "      <td>6/3/2019</td>\n",
       "      <td>0</td>\n",
       "      <td>divorced/widowed</td>\n",
       "      <td>54313</td>\n",
       "      <td>Midwest</td>\n",
       "      <td>High_Activity</td>\n",
       "      <td>54313</td>\n",
       "      <td>Lower Income</td>\n",
       "    </tr>\n",
       "    <tr>\n",
       "      <th>14</th>\n",
       "      <td>151</td>\n",
       "      <td>487368</td>\n",
       "      <td>15</td>\n",
       "      <td>22</td>\n",
       "      <td>1</td>\n",
       "      <td>10</td>\n",
       "      <td>14</td>\n",
       "      <td>196</td>\n",
       "      <td>1</td>\n",
       "      <td>1</td>\n",
       "      <td>...</td>\n",
       "      <td>Indiana</td>\n",
       "      <td>69</td>\n",
       "      <td>6/3/2019</td>\n",
       "      <td>0</td>\n",
       "      <td>divorced/widowed</td>\n",
       "      <td>54313</td>\n",
       "      <td>Midwest</td>\n",
       "      <td>High_Activity</td>\n",
       "      <td>54313</td>\n",
       "      <td>Lower Income</td>\n",
       "    </tr>\n",
       "  </tbody>\n",
       "</table>\n",
       "<p>10 rows × 39 columns</p>\n",
       "</div>"
      ],
      "text/plain": [
       "    Unnamed: 0_x  order_id  user_id  order_number  order_dow  \\\n",
       "5              5   3367565        1             6          2   \n",
       "6              6    550135        1             7          1   \n",
       "7              7   3108588        1             8          1   \n",
       "8              8   2295261        1             9          1   \n",
       "9              9   2550362        1            10          4   \n",
       "10           144   2968173       15            15          1   \n",
       "11           146   1870022       15            17          2   \n",
       "12           147   1911383       15            18          2   \n",
       "13           150   2715276       15            21          1   \n",
       "14           151    487368       15            22          1   \n",
       "\n",
       "    order_hour_of_day  days_since_prior_order  product_id  add_to_cart_order  \\\n",
       "5                   7                      19         196                  1   \n",
       "6                   9                      20         196                  1   \n",
       "7                  14                      14         196                  2   \n",
       "8                  16                       0         196                  4   \n",
       "9                   8                      30         196                  1   \n",
       "10                  9                       7         196                  2   \n",
       "11                 16                       8         196                  6   \n",
       "12                 11                       7         196                  1   \n",
       "13                  9                       7         196                  1   \n",
       "14                 10                      14         196                  1   \n",
       "\n",
       "    reordered  ...    State Age  date_joined  n_dependants        fam_status  \\\n",
       "5           1  ...  Alabama  31    2/17/2019             3           married   \n",
       "6           1  ...  Alabama  31    2/17/2019             3           married   \n",
       "7           1  ...  Alabama  31    2/17/2019             3           married   \n",
       "8           1  ...  Alabama  31    2/17/2019             3           married   \n",
       "9           1  ...  Alabama  31    2/17/2019             3           married   \n",
       "10          0  ...  Indiana  69     6/3/2019             0  divorced/widowed   \n",
       "11          1  ...  Indiana  69     6/3/2019             0  divorced/widowed   \n",
       "12          1  ...  Indiana  69     6/3/2019             0  divorced/widowed   \n",
       "13          1  ...  Indiana  69     6/3/2019             0  divorced/widowed   \n",
       "14          1  ...  Indiana  69     6/3/2019             0  divorced/widowed   \n",
       "\n",
       "   income   Region  Activity_Flag  income_profile   income_flag  \n",
       "5   40423    South  High_Activity           40423  Lower Income  \n",
       "6   40423    South  High_Activity           40423  Lower Income  \n",
       "7   40423    South  High_Activity           40423  Lower Income  \n",
       "8   40423    South  High_Activity           40423  Lower Income  \n",
       "9   40423    South  High_Activity           40423  Lower Income  \n",
       "10  54313  Midwest  High_Activity           54313  Lower Income  \n",
       "11  54313  Midwest  High_Activity           54313  Lower Income  \n",
       "12  54313  Midwest  High_Activity           54313  Lower Income  \n",
       "13  54313  Midwest  High_Activity           54313  Lower Income  \n",
       "14  54313  Midwest  High_Activity           54313  Lower Income  \n",
       "\n",
       "[10 rows x 39 columns]"
      ]
     },
     "execution_count": 26,
     "metadata": {},
     "output_type": "execute_result"
    }
   ],
   "source": [
    "df.head(10)"
   ]
  },
  {
   "cell_type": "code",
   "execution_count": 4,
   "metadata": {},
   "outputs": [
    {
     "data": {
      "text/html": [
       "<div>\n",
       "<style scoped>\n",
       "    .dataframe tbody tr th:only-of-type {\n",
       "        vertical-align: middle;\n",
       "    }\n",
       "\n",
       "    .dataframe tbody tr th {\n",
       "        vertical-align: top;\n",
       "    }\n",
       "\n",
       "    .dataframe thead th {\n",
       "        text-align: right;\n",
       "    }\n",
       "</style>\n",
       "<table border=\"1\" class=\"dataframe\">\n",
       "  <thead>\n",
       "    <tr style=\"text-align: right;\">\n",
       "      <th></th>\n",
       "      <th>Unnamed: 0_x</th>\n",
       "      <th>order_id</th>\n",
       "      <th>user_id</th>\n",
       "      <th>order_number</th>\n",
       "      <th>order_dow</th>\n",
       "      <th>order_hour_of_day</th>\n",
       "      <th>days_since_prior_order</th>\n",
       "      <th>product_id</th>\n",
       "      <th>add_to_cart_order</th>\n",
       "      <th>reordered</th>\n",
       "      <th>...</th>\n",
       "      <th>Age</th>\n",
       "      <th>date_joined</th>\n",
       "      <th>n_dependants</th>\n",
       "      <th>fam_status</th>\n",
       "      <th>income</th>\n",
       "      <th>Region</th>\n",
       "      <th>Activity_Flag</th>\n",
       "      <th>baby_profile</th>\n",
       "      <th>income_profile</th>\n",
       "      <th>income_flag</th>\n",
       "    </tr>\n",
       "  </thead>\n",
       "  <tbody>\n",
       "    <tr>\n",
       "      <th>0</th>\n",
       "      <td>5</td>\n",
       "      <td>3367565</td>\n",
       "      <td>1</td>\n",
       "      <td>6</td>\n",
       "      <td>2</td>\n",
       "      <td>7</td>\n",
       "      <td>19</td>\n",
       "      <td>196</td>\n",
       "      <td>1</td>\n",
       "      <td>1</td>\n",
       "      <td>...</td>\n",
       "      <td>31</td>\n",
       "      <td>2/17/2019</td>\n",
       "      <td>3</td>\n",
       "      <td>married</td>\n",
       "      <td>40423</td>\n",
       "      <td>South</td>\n",
       "      <td>High_Activity</td>\n",
       "      <td>No Baby</td>\n",
       "      <td>40423</td>\n",
       "      <td>Lower Income</td>\n",
       "    </tr>\n",
       "    <tr>\n",
       "      <th>1</th>\n",
       "      <td>6</td>\n",
       "      <td>550135</td>\n",
       "      <td>1</td>\n",
       "      <td>7</td>\n",
       "      <td>1</td>\n",
       "      <td>9</td>\n",
       "      <td>20</td>\n",
       "      <td>196</td>\n",
       "      <td>1</td>\n",
       "      <td>1</td>\n",
       "      <td>...</td>\n",
       "      <td>31</td>\n",
       "      <td>2/17/2019</td>\n",
       "      <td>3</td>\n",
       "      <td>married</td>\n",
       "      <td>40423</td>\n",
       "      <td>South</td>\n",
       "      <td>High_Activity</td>\n",
       "      <td>No Baby</td>\n",
       "      <td>40423</td>\n",
       "      <td>Lower Income</td>\n",
       "    </tr>\n",
       "    <tr>\n",
       "      <th>2</th>\n",
       "      <td>7</td>\n",
       "      <td>3108588</td>\n",
       "      <td>1</td>\n",
       "      <td>8</td>\n",
       "      <td>1</td>\n",
       "      <td>14</td>\n",
       "      <td>14</td>\n",
       "      <td>196</td>\n",
       "      <td>2</td>\n",
       "      <td>1</td>\n",
       "      <td>...</td>\n",
       "      <td>31</td>\n",
       "      <td>2/17/2019</td>\n",
       "      <td>3</td>\n",
       "      <td>married</td>\n",
       "      <td>40423</td>\n",
       "      <td>South</td>\n",
       "      <td>High_Activity</td>\n",
       "      <td>No Baby</td>\n",
       "      <td>40423</td>\n",
       "      <td>Lower Income</td>\n",
       "    </tr>\n",
       "    <tr>\n",
       "      <th>3</th>\n",
       "      <td>8</td>\n",
       "      <td>2295261</td>\n",
       "      <td>1</td>\n",
       "      <td>9</td>\n",
       "      <td>1</td>\n",
       "      <td>16</td>\n",
       "      <td>0</td>\n",
       "      <td>196</td>\n",
       "      <td>4</td>\n",
       "      <td>1</td>\n",
       "      <td>...</td>\n",
       "      <td>31</td>\n",
       "      <td>2/17/2019</td>\n",
       "      <td>3</td>\n",
       "      <td>married</td>\n",
       "      <td>40423</td>\n",
       "      <td>South</td>\n",
       "      <td>High_Activity</td>\n",
       "      <td>No Baby</td>\n",
       "      <td>40423</td>\n",
       "      <td>Lower Income</td>\n",
       "    </tr>\n",
       "    <tr>\n",
       "      <th>4</th>\n",
       "      <td>9</td>\n",
       "      <td>2550362</td>\n",
       "      <td>1</td>\n",
       "      <td>10</td>\n",
       "      <td>4</td>\n",
       "      <td>8</td>\n",
       "      <td>30</td>\n",
       "      <td>196</td>\n",
       "      <td>1</td>\n",
       "      <td>1</td>\n",
       "      <td>...</td>\n",
       "      <td>31</td>\n",
       "      <td>2/17/2019</td>\n",
       "      <td>3</td>\n",
       "      <td>married</td>\n",
       "      <td>40423</td>\n",
       "      <td>South</td>\n",
       "      <td>High_Activity</td>\n",
       "      <td>No Baby</td>\n",
       "      <td>40423</td>\n",
       "      <td>Lower Income</td>\n",
       "    </tr>\n",
       "  </tbody>\n",
       "</table>\n",
       "<p>5 rows × 40 columns</p>\n",
       "</div>"
      ],
      "text/plain": [
       "   Unnamed: 0_x  order_id  user_id  order_number  order_dow  \\\n",
       "0             5   3367565        1             6          2   \n",
       "1             6    550135        1             7          1   \n",
       "2             7   3108588        1             8          1   \n",
       "3             8   2295261        1             9          1   \n",
       "4             9   2550362        1            10          4   \n",
       "\n",
       "   order_hour_of_day  days_since_prior_order  product_id  add_to_cart_order  \\\n",
       "0                  7                      19         196                  1   \n",
       "1                  9                      20         196                  1   \n",
       "2                 14                      14         196                  2   \n",
       "3                 16                       0         196                  4   \n",
       "4                  8                      30         196                  1   \n",
       "\n",
       "   reordered  ...  Age date_joined  n_dependants  fam_status  income Region  \\\n",
       "0          1  ...   31   2/17/2019             3     married   40423  South   \n",
       "1          1  ...   31   2/17/2019             3     married   40423  South   \n",
       "2          1  ...   31   2/17/2019             3     married   40423  South   \n",
       "3          1  ...   31   2/17/2019             3     married   40423  South   \n",
       "4          1  ...   31   2/17/2019             3     married   40423  South   \n",
       "\n",
       "   Activity_Flag baby_profile  income_profile   income_flag  \n",
       "0  High_Activity      No Baby           40423  Lower Income  \n",
       "1  High_Activity      No Baby           40423  Lower Income  \n",
       "2  High_Activity      No Baby           40423  Lower Income  \n",
       "3  High_Activity      No Baby           40423  Lower Income  \n",
       "4  High_Activity      No Baby           40423  Lower Income  \n",
       "\n",
       "[5 rows x 40 columns]"
      ]
     },
     "execution_count": 4,
     "metadata": {},
     "output_type": "execute_result"
    }
   ],
   "source": [
    "df.head()"
   ]
  },
  {
   "cell_type": "code",
   "execution_count": 11,
   "metadata": {},
   "outputs": [],
   "source": [
    "# Drop _merge colummn\n",
    "\n",
    "df = df.drop(columns = ['_merge'])"
   ]
  },
  {
   "cell_type": "markdown",
   "metadata": {},
   "source": [
    "#### Age Variable"
   ]
  },
  {
   "cell_type": "code",
   "execution_count": 5,
   "metadata": {},
   "outputs": [
    {
     "data": {
      "text/plain": [
       "count    2.280834e+07\n",
       "mean     4.945698e+01\n",
       "std      1.848496e+01\n",
       "min      1.800000e+01\n",
       "25%      3.300000e+01\n",
       "50%      4.900000e+01\n",
       "75%      6.500000e+01\n",
       "max      8.100000e+01\n",
       "Name: Age, dtype: float64"
      ]
     },
     "execution_count": 5,
     "metadata": {},
     "output_type": "execute_result"
    }
   ],
   "source": [
    "#\n",
    "\n",
    "df['Age'].describe()"
   ]
  },
  {
   "cell_type": "code",
   "execution_count": 6,
   "metadata": {},
   "outputs": [],
   "source": [
    "# Create 'age' flag\n",
    "\n",
    "df['age_profile'] = df.groupby(['user_id'])['Age'].transform('max')"
   ]
  },
  {
   "cell_type": "code",
   "execution_count": 18,
   "metadata": {},
   "outputs": [],
   "source": [
    "df.loc[df['Age'] <= 33, 'Age_Profile'] = 'Younger'"
   ]
  },
  {
   "cell_type": "code",
   "execution_count": 19,
   "metadata": {},
   "outputs": [],
   "source": [
    "df.loc[(df['Age'] < 65) & (df['Age'] > 33), 'Age_Profile'] = 'Middle Aged'"
   ]
  },
  {
   "cell_type": "code",
   "execution_count": 20,
   "metadata": {},
   "outputs": [],
   "source": [
    "df.loc[df['Age'] >= 65, 'Age_Profile'] = 'Mature Aged'"
   ]
  },
  {
   "cell_type": "code",
   "execution_count": 21,
   "metadata": {},
   "outputs": [
    {
     "data": {
      "text/plain": [
       "Middle Aged    11063614\n",
       "Mature Aged     6033392\n",
       "Younger         5711333\n",
       "Name: Age_Profile, dtype: int64"
      ]
     },
     "execution_count": 21,
     "metadata": {},
     "output_type": "execute_result"
    }
   ],
   "source": [
    "df['Age_Profile'].value_counts(dropna= False)"
   ]
  },
  {
   "cell_type": "code",
   "execution_count": 22,
   "metadata": {},
   "outputs": [
    {
     "data": {
      "text/html": [
       "<div>\n",
       "<style scoped>\n",
       "    .dataframe tbody tr th:only-of-type {\n",
       "        vertical-align: middle;\n",
       "    }\n",
       "\n",
       "    .dataframe tbody tr th {\n",
       "        vertical-align: top;\n",
       "    }\n",
       "\n",
       "    .dataframe thead th {\n",
       "        text-align: right;\n",
       "    }\n",
       "</style>\n",
       "<table border=\"1\" class=\"dataframe\">\n",
       "  <thead>\n",
       "    <tr style=\"text-align: right;\">\n",
       "      <th></th>\n",
       "      <th>Unnamed: 0_x</th>\n",
       "      <th>order_id</th>\n",
       "      <th>user_id</th>\n",
       "      <th>order_number</th>\n",
       "      <th>order_dow</th>\n",
       "      <th>order_hour_of_day</th>\n",
       "      <th>days_since_prior_order</th>\n",
       "      <th>product_id</th>\n",
       "      <th>add_to_cart_order</th>\n",
       "      <th>reordered</th>\n",
       "      <th>...</th>\n",
       "      <th>n_dependants</th>\n",
       "      <th>fam_status</th>\n",
       "      <th>income</th>\n",
       "      <th>Region</th>\n",
       "      <th>Activity_Flag</th>\n",
       "      <th>baby_profile</th>\n",
       "      <th>income_profile</th>\n",
       "      <th>income_flag</th>\n",
       "      <th>age_profile</th>\n",
       "      <th>Age_Profile</th>\n",
       "    </tr>\n",
       "  </thead>\n",
       "  <tbody>\n",
       "    <tr>\n",
       "      <th>0</th>\n",
       "      <td>5</td>\n",
       "      <td>3367565</td>\n",
       "      <td>1</td>\n",
       "      <td>6</td>\n",
       "      <td>2</td>\n",
       "      <td>7</td>\n",
       "      <td>19</td>\n",
       "      <td>196</td>\n",
       "      <td>1</td>\n",
       "      <td>1</td>\n",
       "      <td>...</td>\n",
       "      <td>3</td>\n",
       "      <td>married</td>\n",
       "      <td>40423</td>\n",
       "      <td>South</td>\n",
       "      <td>High_Activity</td>\n",
       "      <td>No Baby</td>\n",
       "      <td>40423</td>\n",
       "      <td>Lower Income</td>\n",
       "      <td>31</td>\n",
       "      <td>Younger</td>\n",
       "    </tr>\n",
       "    <tr>\n",
       "      <th>1</th>\n",
       "      <td>6</td>\n",
       "      <td>550135</td>\n",
       "      <td>1</td>\n",
       "      <td>7</td>\n",
       "      <td>1</td>\n",
       "      <td>9</td>\n",
       "      <td>20</td>\n",
       "      <td>196</td>\n",
       "      <td>1</td>\n",
       "      <td>1</td>\n",
       "      <td>...</td>\n",
       "      <td>3</td>\n",
       "      <td>married</td>\n",
       "      <td>40423</td>\n",
       "      <td>South</td>\n",
       "      <td>High_Activity</td>\n",
       "      <td>No Baby</td>\n",
       "      <td>40423</td>\n",
       "      <td>Lower Income</td>\n",
       "      <td>31</td>\n",
       "      <td>Younger</td>\n",
       "    </tr>\n",
       "    <tr>\n",
       "      <th>2</th>\n",
       "      <td>7</td>\n",
       "      <td>3108588</td>\n",
       "      <td>1</td>\n",
       "      <td>8</td>\n",
       "      <td>1</td>\n",
       "      <td>14</td>\n",
       "      <td>14</td>\n",
       "      <td>196</td>\n",
       "      <td>2</td>\n",
       "      <td>1</td>\n",
       "      <td>...</td>\n",
       "      <td>3</td>\n",
       "      <td>married</td>\n",
       "      <td>40423</td>\n",
       "      <td>South</td>\n",
       "      <td>High_Activity</td>\n",
       "      <td>No Baby</td>\n",
       "      <td>40423</td>\n",
       "      <td>Lower Income</td>\n",
       "      <td>31</td>\n",
       "      <td>Younger</td>\n",
       "    </tr>\n",
       "    <tr>\n",
       "      <th>3</th>\n",
       "      <td>8</td>\n",
       "      <td>2295261</td>\n",
       "      <td>1</td>\n",
       "      <td>9</td>\n",
       "      <td>1</td>\n",
       "      <td>16</td>\n",
       "      <td>0</td>\n",
       "      <td>196</td>\n",
       "      <td>4</td>\n",
       "      <td>1</td>\n",
       "      <td>...</td>\n",
       "      <td>3</td>\n",
       "      <td>married</td>\n",
       "      <td>40423</td>\n",
       "      <td>South</td>\n",
       "      <td>High_Activity</td>\n",
       "      <td>No Baby</td>\n",
       "      <td>40423</td>\n",
       "      <td>Lower Income</td>\n",
       "      <td>31</td>\n",
       "      <td>Younger</td>\n",
       "    </tr>\n",
       "    <tr>\n",
       "      <th>4</th>\n",
       "      <td>9</td>\n",
       "      <td>2550362</td>\n",
       "      <td>1</td>\n",
       "      <td>10</td>\n",
       "      <td>4</td>\n",
       "      <td>8</td>\n",
       "      <td>30</td>\n",
       "      <td>196</td>\n",
       "      <td>1</td>\n",
       "      <td>1</td>\n",
       "      <td>...</td>\n",
       "      <td>3</td>\n",
       "      <td>married</td>\n",
       "      <td>40423</td>\n",
       "      <td>South</td>\n",
       "      <td>High_Activity</td>\n",
       "      <td>No Baby</td>\n",
       "      <td>40423</td>\n",
       "      <td>Lower Income</td>\n",
       "      <td>31</td>\n",
       "      <td>Younger</td>\n",
       "    </tr>\n",
       "  </tbody>\n",
       "</table>\n",
       "<p>5 rows × 42 columns</p>\n",
       "</div>"
      ],
      "text/plain": [
       "   Unnamed: 0_x  order_id  user_id  order_number  order_dow  \\\n",
       "0             5   3367565        1             6          2   \n",
       "1             6    550135        1             7          1   \n",
       "2             7   3108588        1             8          1   \n",
       "3             8   2295261        1             9          1   \n",
       "4             9   2550362        1            10          4   \n",
       "\n",
       "   order_hour_of_day  days_since_prior_order  product_id  add_to_cart_order  \\\n",
       "0                  7                      19         196                  1   \n",
       "1                  9                      20         196                  1   \n",
       "2                 14                      14         196                  2   \n",
       "3                 16                       0         196                  4   \n",
       "4                  8                      30         196                  1   \n",
       "\n",
       "   reordered  ...  n_dependants fam_status  income  Region  Activity_Flag  \\\n",
       "0          1  ...             3    married   40423   South  High_Activity   \n",
       "1          1  ...             3    married   40423   South  High_Activity   \n",
       "2          1  ...             3    married   40423   South  High_Activity   \n",
       "3          1  ...             3    married   40423   South  High_Activity   \n",
       "4          1  ...             3    married   40423   South  High_Activity   \n",
       "\n",
       "  baby_profile  income_profile   income_flag  age_profile  Age_Profile  \n",
       "0      No Baby           40423  Lower Income           31      Younger  \n",
       "1      No Baby           40423  Lower Income           31      Younger  \n",
       "2      No Baby           40423  Lower Income           31      Younger  \n",
       "3      No Baby           40423  Lower Income           31      Younger  \n",
       "4      No Baby           40423  Lower Income           31      Younger  \n",
       "\n",
       "[5 rows x 42 columns]"
      ]
     },
     "execution_count": 22,
     "metadata": {},
     "output_type": "execute_result"
    }
   ],
   "source": [
    "df.head()"
   ]
  },
  {
   "cell_type": "markdown",
   "metadata": {},
   "source": [
    "#### Number of Dependants Variable"
   ]
  },
  {
   "cell_type": "code",
   "execution_count": 23,
   "metadata": {},
   "outputs": [
    {
     "data": {
      "text/plain": [
       "count    2.280834e+07\n",
       "mean     1.502083e+00\n",
       "std      1.119325e+00\n",
       "min      0.000000e+00\n",
       "25%      0.000000e+00\n",
       "50%      2.000000e+00\n",
       "75%      3.000000e+00\n",
       "max      3.000000e+00\n",
       "Name: n_dependants, dtype: float64"
      ]
     },
     "execution_count": 23,
     "metadata": {},
     "output_type": "execute_result"
    }
   ],
   "source": [
    "#\n",
    "\n",
    "df['n_dependants'].describe()"
   ]
  },
  {
   "cell_type": "code",
   "execution_count": 24,
   "metadata": {},
   "outputs": [],
   "source": [
    "# Create 'family_size' flag\n",
    "\n",
    "df['family_size'] = df.groupby(['user_id'])['n_dependants'].transform('max')"
   ]
  },
  {
   "cell_type": "code",
   "execution_count": 25,
   "metadata": {},
   "outputs": [],
   "source": [
    "df.loc[df['n_dependants'] <= 1, 'family_size'] = 'Small Family'"
   ]
  },
  {
   "cell_type": "code",
   "execution_count": 29,
   "metadata": {},
   "outputs": [],
   "source": [
    "df.loc[(df['n_dependants'] == 2), 'family_size'] = 'Medium Family'"
   ]
  },
  {
   "cell_type": "code",
   "execution_count": 28,
   "metadata": {},
   "outputs": [],
   "source": [
    "df.loc[df['n_dependants'] >= 3, 'family_size'] = 'Large Family'"
   ]
  },
  {
   "cell_type": "code",
   "execution_count": 30,
   "metadata": {},
   "outputs": [
    {
     "data": {
      "text/plain": [
       "Small Family     11384228\n",
       "Large Family      5732363\n",
       "Medium Family     5691748\n",
       "Name: family_size, dtype: int64"
      ]
     },
     "execution_count": 30,
     "metadata": {},
     "output_type": "execute_result"
    }
   ],
   "source": [
    "#\n",
    "\n",
    "df['family_size'].value_counts(dropna= False)"
   ]
  },
  {
   "cell_type": "code",
   "execution_count": 32,
   "metadata": {},
   "outputs": [
    {
     "data": {
      "text/html": [
       "<div>\n",
       "<style scoped>\n",
       "    .dataframe tbody tr th:only-of-type {\n",
       "        vertical-align: middle;\n",
       "    }\n",
       "\n",
       "    .dataframe tbody tr th {\n",
       "        vertical-align: top;\n",
       "    }\n",
       "\n",
       "    .dataframe thead th {\n",
       "        text-align: right;\n",
       "    }\n",
       "</style>\n",
       "<table border=\"1\" class=\"dataframe\">\n",
       "  <thead>\n",
       "    <tr style=\"text-align: right;\">\n",
       "      <th></th>\n",
       "      <th>Unnamed: 0_x</th>\n",
       "      <th>order_id</th>\n",
       "      <th>user_id</th>\n",
       "      <th>order_number</th>\n",
       "      <th>order_dow</th>\n",
       "      <th>order_hour_of_day</th>\n",
       "      <th>days_since_prior_order</th>\n",
       "      <th>product_id</th>\n",
       "      <th>add_to_cart_order</th>\n",
       "      <th>reordered</th>\n",
       "      <th>...</th>\n",
       "      <th>fam_status</th>\n",
       "      <th>income</th>\n",
       "      <th>Region</th>\n",
       "      <th>Activity_Flag</th>\n",
       "      <th>baby_profile</th>\n",
       "      <th>income_profile</th>\n",
       "      <th>income_flag</th>\n",
       "      <th>age_profile</th>\n",
       "      <th>Age_Profile</th>\n",
       "      <th>family_size</th>\n",
       "    </tr>\n",
       "  </thead>\n",
       "  <tbody>\n",
       "    <tr>\n",
       "      <th>0</th>\n",
       "      <td>5</td>\n",
       "      <td>3367565</td>\n",
       "      <td>1</td>\n",
       "      <td>6</td>\n",
       "      <td>2</td>\n",
       "      <td>7</td>\n",
       "      <td>19</td>\n",
       "      <td>196</td>\n",
       "      <td>1</td>\n",
       "      <td>1</td>\n",
       "      <td>...</td>\n",
       "      <td>married</td>\n",
       "      <td>40423</td>\n",
       "      <td>South</td>\n",
       "      <td>High_Activity</td>\n",
       "      <td>No Baby</td>\n",
       "      <td>40423</td>\n",
       "      <td>Lower Income</td>\n",
       "      <td>31</td>\n",
       "      <td>Younger</td>\n",
       "      <td>Large Family</td>\n",
       "    </tr>\n",
       "    <tr>\n",
       "      <th>1</th>\n",
       "      <td>6</td>\n",
       "      <td>550135</td>\n",
       "      <td>1</td>\n",
       "      <td>7</td>\n",
       "      <td>1</td>\n",
       "      <td>9</td>\n",
       "      <td>20</td>\n",
       "      <td>196</td>\n",
       "      <td>1</td>\n",
       "      <td>1</td>\n",
       "      <td>...</td>\n",
       "      <td>married</td>\n",
       "      <td>40423</td>\n",
       "      <td>South</td>\n",
       "      <td>High_Activity</td>\n",
       "      <td>No Baby</td>\n",
       "      <td>40423</td>\n",
       "      <td>Lower Income</td>\n",
       "      <td>31</td>\n",
       "      <td>Younger</td>\n",
       "      <td>Large Family</td>\n",
       "    </tr>\n",
       "    <tr>\n",
       "      <th>2</th>\n",
       "      <td>7</td>\n",
       "      <td>3108588</td>\n",
       "      <td>1</td>\n",
       "      <td>8</td>\n",
       "      <td>1</td>\n",
       "      <td>14</td>\n",
       "      <td>14</td>\n",
       "      <td>196</td>\n",
       "      <td>2</td>\n",
       "      <td>1</td>\n",
       "      <td>...</td>\n",
       "      <td>married</td>\n",
       "      <td>40423</td>\n",
       "      <td>South</td>\n",
       "      <td>High_Activity</td>\n",
       "      <td>No Baby</td>\n",
       "      <td>40423</td>\n",
       "      <td>Lower Income</td>\n",
       "      <td>31</td>\n",
       "      <td>Younger</td>\n",
       "      <td>Large Family</td>\n",
       "    </tr>\n",
       "    <tr>\n",
       "      <th>3</th>\n",
       "      <td>8</td>\n",
       "      <td>2295261</td>\n",
       "      <td>1</td>\n",
       "      <td>9</td>\n",
       "      <td>1</td>\n",
       "      <td>16</td>\n",
       "      <td>0</td>\n",
       "      <td>196</td>\n",
       "      <td>4</td>\n",
       "      <td>1</td>\n",
       "      <td>...</td>\n",
       "      <td>married</td>\n",
       "      <td>40423</td>\n",
       "      <td>South</td>\n",
       "      <td>High_Activity</td>\n",
       "      <td>No Baby</td>\n",
       "      <td>40423</td>\n",
       "      <td>Lower Income</td>\n",
       "      <td>31</td>\n",
       "      <td>Younger</td>\n",
       "      <td>Large Family</td>\n",
       "    </tr>\n",
       "    <tr>\n",
       "      <th>4</th>\n",
       "      <td>9</td>\n",
       "      <td>2550362</td>\n",
       "      <td>1</td>\n",
       "      <td>10</td>\n",
       "      <td>4</td>\n",
       "      <td>8</td>\n",
       "      <td>30</td>\n",
       "      <td>196</td>\n",
       "      <td>1</td>\n",
       "      <td>1</td>\n",
       "      <td>...</td>\n",
       "      <td>married</td>\n",
       "      <td>40423</td>\n",
       "      <td>South</td>\n",
       "      <td>High_Activity</td>\n",
       "      <td>No Baby</td>\n",
       "      <td>40423</td>\n",
       "      <td>Lower Income</td>\n",
       "      <td>31</td>\n",
       "      <td>Younger</td>\n",
       "      <td>Large Family</td>\n",
       "    </tr>\n",
       "  </tbody>\n",
       "</table>\n",
       "<p>5 rows × 43 columns</p>\n",
       "</div>"
      ],
      "text/plain": [
       "   Unnamed: 0_x  order_id  user_id  order_number  order_dow  \\\n",
       "0             5   3367565        1             6          2   \n",
       "1             6    550135        1             7          1   \n",
       "2             7   3108588        1             8          1   \n",
       "3             8   2295261        1             9          1   \n",
       "4             9   2550362        1            10          4   \n",
       "\n",
       "   order_hour_of_day  days_since_prior_order  product_id  add_to_cart_order  \\\n",
       "0                  7                      19         196                  1   \n",
       "1                  9                      20         196                  1   \n",
       "2                 14                      14         196                  2   \n",
       "3                 16                       0         196                  4   \n",
       "4                  8                      30         196                  1   \n",
       "\n",
       "   reordered  ...  fam_status income  Region  Activity_Flag  baby_profile  \\\n",
       "0          1  ...     married  40423   South  High_Activity       No Baby   \n",
       "1          1  ...     married  40423   South  High_Activity       No Baby   \n",
       "2          1  ...     married  40423   South  High_Activity       No Baby   \n",
       "3          1  ...     married  40423   South  High_Activity       No Baby   \n",
       "4          1  ...     married  40423   South  High_Activity       No Baby   \n",
       "\n",
       "  income_profile   income_flag age_profile  Age_Profile   family_size  \n",
       "0          40423  Lower Income          31      Younger  Large Family  \n",
       "1          40423  Lower Income          31      Younger  Large Family  \n",
       "2          40423  Lower Income          31      Younger  Large Family  \n",
       "3          40423  Lower Income          31      Younger  Large Family  \n",
       "4          40423  Lower Income          31      Younger  Large Family  \n",
       "\n",
       "[5 rows x 43 columns]"
      ]
     },
     "execution_count": 32,
     "metadata": {},
     "output_type": "execute_result"
    }
   ],
   "source": [
    "df.head()"
   ]
  },
  {
   "cell_type": "code",
   "execution_count": 33,
   "metadata": {},
   "outputs": [],
   "source": [
    "# Export df\n",
    "\n",
    "df.to_pickle(os.path.join(path, '02 Data','Prepared Data', 'df_profiles_merged.pkl'))"
   ]
  },
  {
   "cell_type": "code",
   "execution_count": 34,
   "metadata": {},
   "outputs": [],
   "source": [
    "# Create new df with variables\n",
    "\n",
    "df_profiles = pd.read_pickle(os.path.join(path,'02 Data', 'Prepared Data', 'df_profiles_merged.pkl'))"
   ]
  },
  {
   "cell_type": "code",
   "execution_count": 35,
   "metadata": {},
   "outputs": [
    {
     "data": {
      "text/html": [
       "<div>\n",
       "<style scoped>\n",
       "    .dataframe tbody tr th:only-of-type {\n",
       "        vertical-align: middle;\n",
       "    }\n",
       "\n",
       "    .dataframe tbody tr th {\n",
       "        vertical-align: top;\n",
       "    }\n",
       "\n",
       "    .dataframe thead th {\n",
       "        text-align: right;\n",
       "    }\n",
       "</style>\n",
       "<table border=\"1\" class=\"dataframe\">\n",
       "  <thead>\n",
       "    <tr style=\"text-align: right;\">\n",
       "      <th></th>\n",
       "      <th>Unnamed: 0_x</th>\n",
       "      <th>order_id</th>\n",
       "      <th>user_id</th>\n",
       "      <th>order_number</th>\n",
       "      <th>order_dow</th>\n",
       "      <th>order_hour_of_day</th>\n",
       "      <th>days_since_prior_order</th>\n",
       "      <th>product_id</th>\n",
       "      <th>add_to_cart_order</th>\n",
       "      <th>reordered</th>\n",
       "      <th>...</th>\n",
       "      <th>fam_status</th>\n",
       "      <th>income</th>\n",
       "      <th>Region</th>\n",
       "      <th>Activity_Flag</th>\n",
       "      <th>baby_profile</th>\n",
       "      <th>income_profile</th>\n",
       "      <th>income_flag</th>\n",
       "      <th>age_profile</th>\n",
       "      <th>Age_Profile</th>\n",
       "      <th>family_size</th>\n",
       "    </tr>\n",
       "  </thead>\n",
       "  <tbody>\n",
       "    <tr>\n",
       "      <th>0</th>\n",
       "      <td>5</td>\n",
       "      <td>3367565</td>\n",
       "      <td>1</td>\n",
       "      <td>6</td>\n",
       "      <td>2</td>\n",
       "      <td>7</td>\n",
       "      <td>19</td>\n",
       "      <td>196</td>\n",
       "      <td>1</td>\n",
       "      <td>1</td>\n",
       "      <td>...</td>\n",
       "      <td>married</td>\n",
       "      <td>40423</td>\n",
       "      <td>South</td>\n",
       "      <td>High_Activity</td>\n",
       "      <td>No Baby</td>\n",
       "      <td>40423</td>\n",
       "      <td>Lower Income</td>\n",
       "      <td>31</td>\n",
       "      <td>Younger</td>\n",
       "      <td>Large Family</td>\n",
       "    </tr>\n",
       "    <tr>\n",
       "      <th>1</th>\n",
       "      <td>6</td>\n",
       "      <td>550135</td>\n",
       "      <td>1</td>\n",
       "      <td>7</td>\n",
       "      <td>1</td>\n",
       "      <td>9</td>\n",
       "      <td>20</td>\n",
       "      <td>196</td>\n",
       "      <td>1</td>\n",
       "      <td>1</td>\n",
       "      <td>...</td>\n",
       "      <td>married</td>\n",
       "      <td>40423</td>\n",
       "      <td>South</td>\n",
       "      <td>High_Activity</td>\n",
       "      <td>No Baby</td>\n",
       "      <td>40423</td>\n",
       "      <td>Lower Income</td>\n",
       "      <td>31</td>\n",
       "      <td>Younger</td>\n",
       "      <td>Large Family</td>\n",
       "    </tr>\n",
       "    <tr>\n",
       "      <th>2</th>\n",
       "      <td>7</td>\n",
       "      <td>3108588</td>\n",
       "      <td>1</td>\n",
       "      <td>8</td>\n",
       "      <td>1</td>\n",
       "      <td>14</td>\n",
       "      <td>14</td>\n",
       "      <td>196</td>\n",
       "      <td>2</td>\n",
       "      <td>1</td>\n",
       "      <td>...</td>\n",
       "      <td>married</td>\n",
       "      <td>40423</td>\n",
       "      <td>South</td>\n",
       "      <td>High_Activity</td>\n",
       "      <td>No Baby</td>\n",
       "      <td>40423</td>\n",
       "      <td>Lower Income</td>\n",
       "      <td>31</td>\n",
       "      <td>Younger</td>\n",
       "      <td>Large Family</td>\n",
       "    </tr>\n",
       "    <tr>\n",
       "      <th>3</th>\n",
       "      <td>8</td>\n",
       "      <td>2295261</td>\n",
       "      <td>1</td>\n",
       "      <td>9</td>\n",
       "      <td>1</td>\n",
       "      <td>16</td>\n",
       "      <td>0</td>\n",
       "      <td>196</td>\n",
       "      <td>4</td>\n",
       "      <td>1</td>\n",
       "      <td>...</td>\n",
       "      <td>married</td>\n",
       "      <td>40423</td>\n",
       "      <td>South</td>\n",
       "      <td>High_Activity</td>\n",
       "      <td>No Baby</td>\n",
       "      <td>40423</td>\n",
       "      <td>Lower Income</td>\n",
       "      <td>31</td>\n",
       "      <td>Younger</td>\n",
       "      <td>Large Family</td>\n",
       "    </tr>\n",
       "    <tr>\n",
       "      <th>4</th>\n",
       "      <td>9</td>\n",
       "      <td>2550362</td>\n",
       "      <td>1</td>\n",
       "      <td>10</td>\n",
       "      <td>4</td>\n",
       "      <td>8</td>\n",
       "      <td>30</td>\n",
       "      <td>196</td>\n",
       "      <td>1</td>\n",
       "      <td>1</td>\n",
       "      <td>...</td>\n",
       "      <td>married</td>\n",
       "      <td>40423</td>\n",
       "      <td>South</td>\n",
       "      <td>High_Activity</td>\n",
       "      <td>No Baby</td>\n",
       "      <td>40423</td>\n",
       "      <td>Lower Income</td>\n",
       "      <td>31</td>\n",
       "      <td>Younger</td>\n",
       "      <td>Large Family</td>\n",
       "    </tr>\n",
       "  </tbody>\n",
       "</table>\n",
       "<p>5 rows × 43 columns</p>\n",
       "</div>"
      ],
      "text/plain": [
       "   Unnamed: 0_x  order_id  user_id  order_number  order_dow  \\\n",
       "0             5   3367565        1             6          2   \n",
       "1             6    550135        1             7          1   \n",
       "2             7   3108588        1             8          1   \n",
       "3             8   2295261        1             9          1   \n",
       "4             9   2550362        1            10          4   \n",
       "\n",
       "   order_hour_of_day  days_since_prior_order  product_id  add_to_cart_order  \\\n",
       "0                  7                      19         196                  1   \n",
       "1                  9                      20         196                  1   \n",
       "2                 14                      14         196                  2   \n",
       "3                 16                       0         196                  4   \n",
       "4                  8                      30         196                  1   \n",
       "\n",
       "   reordered  ...  fam_status income  Region  Activity_Flag  baby_profile  \\\n",
       "0          1  ...     married  40423   South  High_Activity       No Baby   \n",
       "1          1  ...     married  40423   South  High_Activity       No Baby   \n",
       "2          1  ...     married  40423   South  High_Activity       No Baby   \n",
       "3          1  ...     married  40423   South  High_Activity       No Baby   \n",
       "4          1  ...     married  40423   South  High_Activity       No Baby   \n",
       "\n",
       "  income_profile   income_flag age_profile  Age_Profile   family_size  \n",
       "0          40423  Lower Income          31      Younger  Large Family  \n",
       "1          40423  Lower Income          31      Younger  Large Family  \n",
       "2          40423  Lower Income          31      Younger  Large Family  \n",
       "3          40423  Lower Income          31      Younger  Large Family  \n",
       "4          40423  Lower Income          31      Younger  Large Family  \n",
       "\n",
       "[5 rows x 43 columns]"
      ]
     },
     "execution_count": 35,
     "metadata": {},
     "output_type": "execute_result"
    }
   ],
   "source": [
    "df_profiles.head()"
   ]
  },
  {
   "cell_type": "code",
   "execution_count": 36,
   "metadata": {},
   "outputs": [
    {
     "data": {
      "text/plain": [
       "Index(['Unnamed: 0_x', 'order_id', 'user_id', 'order_number', 'order_dow',\n",
       "       'order_hour_of_day', 'days_since_prior_order', 'product_id',\n",
       "       'add_to_cart_order', 'reordered', 'Unnamed: 0_y', 'product_name_x',\n",
       "       'aisle_id_x', 'department_id_x', 'prices_x', 'exists', 'Unnamed: 0',\n",
       "       'product_name_y', 'aisle_id_y', 'department_id_y', 'prices_y', 'exist',\n",
       "       'max_order', 'loyalty_flag', 'Average_spending', 'spending_flag',\n",
       "       'Median_days_since_prior_order', 'frequency_flag', 'Gender', 'State',\n",
       "       'Age', 'date_joined', 'n_dependants', 'fam_status', 'income', 'Region',\n",
       "       'Activity_Flag', 'baby_profile', 'income_profile', 'income_flag',\n",
       "       'age_profile', 'Age_Profile', 'family_size'],\n",
       "      dtype='object')"
      ]
     },
     "execution_count": 36,
     "metadata": {},
     "output_type": "execute_result"
    }
   ],
   "source": [
    "df_profiles.columns"
   ]
  },
  {
   "cell_type": "code",
   "execution_count": 42,
   "metadata": {},
   "outputs": [],
   "source": [
    "df_profiles = df_profiles.drop(columns = ['order_id', 'order_number', 'income_profile', 'age_profile'])"
   ]
  },
  {
   "cell_type": "code",
   "execution_count": 44,
   "metadata": {},
   "outputs": [
    {
     "data": {
      "text/html": [
       "<div>\n",
       "<style scoped>\n",
       "    .dataframe tbody tr th:only-of-type {\n",
       "        vertical-align: middle;\n",
       "    }\n",
       "\n",
       "    .dataframe tbody tr th {\n",
       "        vertical-align: top;\n",
       "    }\n",
       "\n",
       "    .dataframe thead th {\n",
       "        text-align: right;\n",
       "    }\n",
       "</style>\n",
       "<table border=\"1\" class=\"dataframe\">\n",
       "  <thead>\n",
       "    <tr style=\"text-align: right;\">\n",
       "      <th></th>\n",
       "      <th>user_id</th>\n",
       "      <th>order_dow</th>\n",
       "      <th>order_hour_of_day</th>\n",
       "      <th>days_since_prior_order</th>\n",
       "      <th>Region</th>\n",
       "      <th>baby_profile</th>\n",
       "      <th>income_flag</th>\n",
       "      <th>Age_Profile</th>\n",
       "      <th>family_size</th>\n",
       "    </tr>\n",
       "  </thead>\n",
       "  <tbody>\n",
       "    <tr>\n",
       "      <th>0</th>\n",
       "      <td>1</td>\n",
       "      <td>2</td>\n",
       "      <td>7</td>\n",
       "      <td>19</td>\n",
       "      <td>South</td>\n",
       "      <td>No Baby</td>\n",
       "      <td>Lower Income</td>\n",
       "      <td>Younger</td>\n",
       "      <td>Large Family</td>\n",
       "    </tr>\n",
       "    <tr>\n",
       "      <th>1</th>\n",
       "      <td>1</td>\n",
       "      <td>1</td>\n",
       "      <td>9</td>\n",
       "      <td>20</td>\n",
       "      <td>South</td>\n",
       "      <td>No Baby</td>\n",
       "      <td>Lower Income</td>\n",
       "      <td>Younger</td>\n",
       "      <td>Large Family</td>\n",
       "    </tr>\n",
       "    <tr>\n",
       "      <th>2</th>\n",
       "      <td>1</td>\n",
       "      <td>1</td>\n",
       "      <td>14</td>\n",
       "      <td>14</td>\n",
       "      <td>South</td>\n",
       "      <td>No Baby</td>\n",
       "      <td>Lower Income</td>\n",
       "      <td>Younger</td>\n",
       "      <td>Large Family</td>\n",
       "    </tr>\n",
       "    <tr>\n",
       "      <th>3</th>\n",
       "      <td>1</td>\n",
       "      <td>1</td>\n",
       "      <td>16</td>\n",
       "      <td>0</td>\n",
       "      <td>South</td>\n",
       "      <td>No Baby</td>\n",
       "      <td>Lower Income</td>\n",
       "      <td>Younger</td>\n",
       "      <td>Large Family</td>\n",
       "    </tr>\n",
       "    <tr>\n",
       "      <th>4</th>\n",
       "      <td>1</td>\n",
       "      <td>4</td>\n",
       "      <td>8</td>\n",
       "      <td>30</td>\n",
       "      <td>South</td>\n",
       "      <td>No Baby</td>\n",
       "      <td>Lower Income</td>\n",
       "      <td>Younger</td>\n",
       "      <td>Large Family</td>\n",
       "    </tr>\n",
       "  </tbody>\n",
       "</table>\n",
       "</div>"
      ],
      "text/plain": [
       "   user_id  order_dow  order_hour_of_day  days_since_prior_order Region  \\\n",
       "0        1          2                  7                      19  South   \n",
       "1        1          1                  9                      20  South   \n",
       "2        1          1                 14                      14  South   \n",
       "3        1          1                 16                       0  South   \n",
       "4        1          4                  8                      30  South   \n",
       "\n",
       "  baby_profile   income_flag Age_Profile   family_size  \n",
       "0      No Baby  Lower Income     Younger  Large Family  \n",
       "1      No Baby  Lower Income     Younger  Large Family  \n",
       "2      No Baby  Lower Income     Younger  Large Family  \n",
       "3      No Baby  Lower Income     Younger  Large Family  \n",
       "4      No Baby  Lower Income     Younger  Large Family  "
      ]
     },
     "execution_count": 44,
     "metadata": {},
     "output_type": "execute_result"
    }
   ],
   "source": [
    "df_profiles.head()"
   ]
  },
  {
   "cell_type": "code",
   "execution_count": 45,
   "metadata": {},
   "outputs": [],
   "source": [
    "# Export df\n",
    "\n",
    "df_profiles.to_pickle(os.path.join(path, '02 Data','Prepared Data', 'df_profiles.pkl'))"
   ]
  },
  {
   "cell_type": "markdown",
   "metadata": {},
   "source": [
    "### 6. Create an appropriate visualization to show the distribution of profiles."
   ]
  },
  {
   "cell_type": "code",
   "execution_count": 46,
   "metadata": {},
   "outputs": [
    {
     "data": {
      "image/png": "[encoded data removed]",
      "text/plain": [
       "<Figure size 432x288 with 1 Axes>"
      ]
     },
     "metadata": {
      "needs_background": "light"
     },
     "output_type": "display_data"
    }
   ],
   "source": [
    "# Create baby_profile bar grapgh\n",
    "\n",
    "bar_baby = df_profiles['baby_profile'].value_counts().plot.bar()"
   ]
  },
  {
   "cell_type": "code",
   "execution_count": 47,
   "metadata": {},
   "outputs": [
    {
     "data": {
      "image/png": "[encoded data removed]",
      "text/plain": [
       "<Figure size 432x288 with 1 Axes>"
      ]
     },
     "metadata": {
      "needs_background": "light"
     },
     "output_type": "display_data"
    }
   ],
   "source": [
    "# Create income_flag bar grapgh\n",
    "\n",
    "bar_income = df_profiles['income_flag'].value_counts().plot.bar()"
   ]
  },
  {
   "cell_type": "code",
   "execution_count": 49,
   "metadata": {},
   "outputs": [
    {
     "data": {
      "image/png": "[encoded data removed]",
      "text/plain": [
       "<Figure size 432x288 with 1 Axes>"
      ]
     },
     "metadata": {
      "needs_background": "light"
     },
     "output_type": "display_data"
    }
   ],
   "source": [
    "# Create Age_Profile bar grapgh\n",
    "\n",
    "bar_age = df_profiles['Age_Profile'].value_counts().plot.bar()"
   ]
  },
  {
   "cell_type": "code",
   "execution_count": 50,
   "metadata": {},
   "outputs": [
    {
     "data": {
      "image/png": "[encoded data removed]",
      "text/plain": [
       "<Figure size 432x288 with 1 Axes>"
      ]
     },
     "metadata": {
      "needs_background": "light"
     },
     "output_type": "display_data"
    }
   ],
   "source": [
    "# Create family_size bar grapgh\n",
    "\n",
    "bar_family = df_profiles['family_size'].value_counts().plot.bar()"
   ]
  },
  {
   "cell_type": "markdown",
   "metadata": {},
   "source": [
    "### 7. Aggregate the max, mean, and min variables on a customer-profile level for usage frequency and expenditure."
   ]
  },
  {
   "cell_type": "code",
   "execution_count": 51,
   "metadata": {},
   "outputs": [],
   "source": [
    "# Import df_profiles_merged\n",
    "\n",
    "df = pd.read_pickle(os.path.join(path,'02 Data', 'Prepared Data', 'df_profiles_merged.pkl'))"
   ]
  },
  {
   "cell_type": "code",
   "execution_count": 53,
   "metadata": {},
   "outputs": [
    {
     "data": {
      "text/html": [
       "<div>\n",
       "<style scoped>\n",
       "    .dataframe tbody tr th:only-of-type {\n",
       "        vertical-align: middle;\n",
       "    }\n",
       "\n",
       "    .dataframe tbody tr th {\n",
       "        vertical-align: top;\n",
       "    }\n",
       "\n",
       "    .dataframe thead tr th {\n",
       "        text-align: left;\n",
       "    }\n",
       "\n",
       "    .dataframe thead tr:last-of-type th {\n",
       "        text-align: right;\n",
       "    }\n",
       "</style>\n",
       "<table border=\"1\" class=\"dataframe\">\n",
       "  <thead>\n",
       "    <tr>\n",
       "      <th></th>\n",
       "      <th colspan=\"3\" halign=\"left\">order_dow</th>\n",
       "    </tr>\n",
       "    <tr>\n",
       "      <th></th>\n",
       "      <th>mean</th>\n",
       "      <th>min</th>\n",
       "      <th>max</th>\n",
       "    </tr>\n",
       "    <tr>\n",
       "      <th>baby_profile</th>\n",
       "      <th></th>\n",
       "      <th></th>\n",
       "      <th></th>\n",
       "    </tr>\n",
       "  </thead>\n",
       "  <tbody>\n",
       "    <tr>\n",
       "      <th>Baby</th>\n",
       "      <td>2.747571</td>\n",
       "      <td>0</td>\n",
       "      <td>6</td>\n",
       "    </tr>\n",
       "    <tr>\n",
       "      <th>No Baby</th>\n",
       "      <td>2.750124</td>\n",
       "      <td>0</td>\n",
       "      <td>6</td>\n",
       "    </tr>\n",
       "  </tbody>\n",
       "</table>\n",
       "</div>"
      ],
      "text/plain": [
       "             order_dow        \n",
       "                  mean min max\n",
       "baby_profile                  \n",
       "Baby          2.747571   0   6\n",
       "No Baby       2.750124   0   6"
      ]
     },
     "execution_count": 53,
     "metadata": {},
     "output_type": "execute_result"
    }
   ],
   "source": [
    "# Baby_profile - Do households differ with order_dow depending on whether they have a baby?\n",
    "\n",
    "df.groupby('baby_profile').agg({'order_dow':['mean', 'min', 'max']})"
   ]
  },
  {
   "cell_type": "code",
   "execution_count": 54,
   "metadata": {},
   "outputs": [
    {
     "data": {
      "text/html": [
       "<div>\n",
       "<style scoped>\n",
       "    .dataframe tbody tr th:only-of-type {\n",
       "        vertical-align: middle;\n",
       "    }\n",
       "\n",
       "    .dataframe tbody tr th {\n",
       "        vertical-align: top;\n",
       "    }\n",
       "\n",
       "    .dataframe thead tr th {\n",
       "        text-align: left;\n",
       "    }\n",
       "\n",
       "    .dataframe thead tr:last-of-type th {\n",
       "        text-align: right;\n",
       "    }\n",
       "</style>\n",
       "<table border=\"1\" class=\"dataframe\">\n",
       "  <thead>\n",
       "    <tr>\n",
       "      <th></th>\n",
       "      <th colspan=\"3\" halign=\"left\">order_hour_of_day</th>\n",
       "    </tr>\n",
       "    <tr>\n",
       "      <th></th>\n",
       "      <th>mean</th>\n",
       "      <th>min</th>\n",
       "      <th>max</th>\n",
       "    </tr>\n",
       "    <tr>\n",
       "      <th>baby_profile</th>\n",
       "      <th></th>\n",
       "      <th></th>\n",
       "      <th></th>\n",
       "    </tr>\n",
       "  </thead>\n",
       "  <tbody>\n",
       "    <tr>\n",
       "      <th>Baby</th>\n",
       "      <td>13.397175</td>\n",
       "      <td>0</td>\n",
       "      <td>23</td>\n",
       "    </tr>\n",
       "    <tr>\n",
       "      <th>No Baby</th>\n",
       "      <td>13.323137</td>\n",
       "      <td>0</td>\n",
       "      <td>23</td>\n",
       "    </tr>\n",
       "  </tbody>\n",
       "</table>\n",
       "</div>"
      ],
      "text/plain": [
       "             order_hour_of_day        \n",
       "                          mean min max\n",
       "baby_profile                          \n",
       "Baby                 13.397175   0  23\n",
       "No Baby              13.323137   0  23"
      ]
     },
     "execution_count": 54,
     "metadata": {},
     "output_type": "execute_result"
    }
   ],
   "source": [
    "# Baby_profile - Do households differ with order_hour_of_day depending on whether they have a baby?\n",
    "\n",
    "df.groupby('baby_profile').agg({'order_hour_of_day':['mean', 'min', 'max']})"
   ]
  },
  {
   "cell_type": "code",
   "execution_count": 56,
   "metadata": {},
   "outputs": [
    {
     "data": {
      "text/html": [
       "<div>\n",
       "<style scoped>\n",
       "    .dataframe tbody tr th:only-of-type {\n",
       "        vertical-align: middle;\n",
       "    }\n",
       "\n",
       "    .dataframe tbody tr th {\n",
       "        vertical-align: top;\n",
       "    }\n",
       "\n",
       "    .dataframe thead tr th {\n",
       "        text-align: left;\n",
       "    }\n",
       "\n",
       "    .dataframe thead tr:last-of-type th {\n",
       "        text-align: right;\n",
       "    }\n",
       "</style>\n",
       "<table border=\"1\" class=\"dataframe\">\n",
       "  <thead>\n",
       "    <tr>\n",
       "      <th></th>\n",
       "      <th colspan=\"3\" halign=\"left\">order_dow</th>\n",
       "    </tr>\n",
       "    <tr>\n",
       "      <th></th>\n",
       "      <th>mean</th>\n",
       "      <th>min</th>\n",
       "      <th>max</th>\n",
       "    </tr>\n",
       "    <tr>\n",
       "      <th>income_flag</th>\n",
       "      <th></th>\n",
       "      <th></th>\n",
       "      <th></th>\n",
       "    </tr>\n",
       "  </thead>\n",
       "  <tbody>\n",
       "    <tr>\n",
       "      <th>Average Income</th>\n",
       "      <td>2.749412</td>\n",
       "      <td>0</td>\n",
       "      <td>6</td>\n",
       "    </tr>\n",
       "    <tr>\n",
       "      <th>Higher Income</th>\n",
       "      <td>2.752612</td>\n",
       "      <td>0</td>\n",
       "      <td>6</td>\n",
       "    </tr>\n",
       "    <tr>\n",
       "      <th>Lower Income</th>\n",
       "      <td>2.745758</td>\n",
       "      <td>0</td>\n",
       "      <td>6</td>\n",
       "    </tr>\n",
       "  </tbody>\n",
       "</table>\n",
       "</div>"
      ],
      "text/plain": [
       "               order_dow        \n",
       "                    mean min max\n",
       "income_flag                     \n",
       "Average Income  2.749412   0   6\n",
       "Higher Income   2.752612   0   6\n",
       "Lower Income    2.745758   0   6"
      ]
     },
     "execution_count": 56,
     "metadata": {},
     "output_type": "execute_result"
    }
   ],
   "source": [
    "# Income_profile - Does income have an effect on order_dow?\n",
    "\n",
    "df.groupby('income_flag').agg({'order_dow':['mean', 'min', 'max']})"
   ]
  },
  {
   "cell_type": "code",
   "execution_count": 57,
   "metadata": {},
   "outputs": [
    {
     "data": {
      "text/html": [
       "<div>\n",
       "<style scoped>\n",
       "    .dataframe tbody tr th:only-of-type {\n",
       "        vertical-align: middle;\n",
       "    }\n",
       "\n",
       "    .dataframe tbody tr th {\n",
       "        vertical-align: top;\n",
       "    }\n",
       "\n",
       "    .dataframe thead tr th {\n",
       "        text-align: left;\n",
       "    }\n",
       "\n",
       "    .dataframe thead tr:last-of-type th {\n",
       "        text-align: right;\n",
       "    }\n",
       "</style>\n",
       "<table border=\"1\" class=\"dataframe\">\n",
       "  <thead>\n",
       "    <tr>\n",
       "      <th></th>\n",
       "      <th colspan=\"3\" halign=\"left\">order_hour_of_day</th>\n",
       "    </tr>\n",
       "    <tr>\n",
       "      <th></th>\n",
       "      <th>mean</th>\n",
       "      <th>min</th>\n",
       "      <th>max</th>\n",
       "    </tr>\n",
       "    <tr>\n",
       "      <th>income_flag</th>\n",
       "      <th></th>\n",
       "      <th></th>\n",
       "      <th></th>\n",
       "    </tr>\n",
       "  </thead>\n",
       "  <tbody>\n",
       "    <tr>\n",
       "      <th>Average Income</th>\n",
       "      <td>13.377564</td>\n",
       "      <td>0</td>\n",
       "      <td>23</td>\n",
       "    </tr>\n",
       "    <tr>\n",
       "      <th>Higher Income</th>\n",
       "      <td>13.391371</td>\n",
       "      <td>0</td>\n",
       "      <td>23</td>\n",
       "    </tr>\n",
       "    <tr>\n",
       "      <th>Lower Income</th>\n",
       "      <td>13.241824</td>\n",
       "      <td>0</td>\n",
       "      <td>23</td>\n",
       "    </tr>\n",
       "  </tbody>\n",
       "</table>\n",
       "</div>"
      ],
      "text/plain": [
       "               order_hour_of_day        \n",
       "                            mean min max\n",
       "income_flag                             \n",
       "Average Income         13.377564   0  23\n",
       "Higher Income          13.391371   0  23\n",
       "Lower Income           13.241824   0  23"
      ]
     },
     "execution_count": 57,
     "metadata": {},
     "output_type": "execute_result"
    }
   ],
   "source": [
    "# Income_profile - Does income have an effect on order_hour_of_day?\n",
    "\n",
    "df.groupby('income_flag').agg({'order_hour_of_day':['mean', 'min', 'max']})"
   ]
  },
  {
   "cell_type": "code",
   "execution_count": 58,
   "metadata": {},
   "outputs": [
    {
     "data": {
      "text/html": [
       "<div>\n",
       "<style scoped>\n",
       "    .dataframe tbody tr th:only-of-type {\n",
       "        vertical-align: middle;\n",
       "    }\n",
       "\n",
       "    .dataframe tbody tr th {\n",
       "        vertical-align: top;\n",
       "    }\n",
       "\n",
       "    .dataframe thead tr th {\n",
       "        text-align: left;\n",
       "    }\n",
       "\n",
       "    .dataframe thead tr:last-of-type th {\n",
       "        text-align: right;\n",
       "    }\n",
       "</style>\n",
       "<table border=\"1\" class=\"dataframe\">\n",
       "  <thead>\n",
       "    <tr>\n",
       "      <th></th>\n",
       "      <th colspan=\"3\" halign=\"left\">order_dow</th>\n",
       "    </tr>\n",
       "    <tr>\n",
       "      <th></th>\n",
       "      <th>mean</th>\n",
       "      <th>min</th>\n",
       "      <th>max</th>\n",
       "    </tr>\n",
       "    <tr>\n",
       "      <th>Age_Profile</th>\n",
       "      <th></th>\n",
       "      <th></th>\n",
       "      <th></th>\n",
       "    </tr>\n",
       "  </thead>\n",
       "  <tbody>\n",
       "    <tr>\n",
       "      <th>Mature Aged</th>\n",
       "      <td>2.752066</td>\n",
       "      <td>0</td>\n",
       "      <td>6</td>\n",
       "    </tr>\n",
       "    <tr>\n",
       "      <th>Medium Family</th>\n",
       "      <td>2.759705</td>\n",
       "      <td>0</td>\n",
       "      <td>6</td>\n",
       "    </tr>\n",
       "    <tr>\n",
       "      <th>Middle Aged</th>\n",
       "      <td>2.746875</td>\n",
       "      <td>0</td>\n",
       "      <td>6</td>\n",
       "    </tr>\n",
       "    <tr>\n",
       "      <th>Younger</th>\n",
       "      <td>2.737304</td>\n",
       "      <td>0</td>\n",
       "      <td>6</td>\n",
       "    </tr>\n",
       "  </tbody>\n",
       "</table>\n",
       "</div>"
      ],
      "text/plain": [
       "              order_dow        \n",
       "                   mean min max\n",
       "Age_Profile                    \n",
       "Mature Aged    2.752066   0   6\n",
       "Medium Family  2.759705   0   6\n",
       "Middle Aged    2.746875   0   6\n",
       "Younger        2.737304   0   6"
      ]
     },
     "execution_count": 58,
     "metadata": {},
     "output_type": "execute_result"
    }
   ],
   "source": [
    "# Age_Profile - Does age have an effect on order_dow?\n",
    "\n",
    "df.groupby('Age_Profile').agg({'order_dow':['mean', 'min', 'max']})"
   ]
  },
  {
   "cell_type": "code",
   "execution_count": 59,
   "metadata": {},
   "outputs": [
    {
     "data": {
      "text/html": [
       "<div>\n",
       "<style scoped>\n",
       "    .dataframe tbody tr th:only-of-type {\n",
       "        vertical-align: middle;\n",
       "    }\n",
       "\n",
       "    .dataframe tbody tr th {\n",
       "        vertical-align: top;\n",
       "    }\n",
       "\n",
       "    .dataframe thead tr th {\n",
       "        text-align: left;\n",
       "    }\n",
       "\n",
       "    .dataframe thead tr:last-of-type th {\n",
       "        text-align: right;\n",
       "    }\n",
       "</style>\n",
       "<table border=\"1\" class=\"dataframe\">\n",
       "  <thead>\n",
       "    <tr>\n",
       "      <th></th>\n",
       "      <th colspan=\"3\" halign=\"left\">order_hour_of_day</th>\n",
       "    </tr>\n",
       "    <tr>\n",
       "      <th></th>\n",
       "      <th>mean</th>\n",
       "      <th>min</th>\n",
       "      <th>max</th>\n",
       "    </tr>\n",
       "    <tr>\n",
       "      <th>Age_Profile</th>\n",
       "      <th></th>\n",
       "      <th></th>\n",
       "      <th></th>\n",
       "    </tr>\n",
       "  </thead>\n",
       "  <tbody>\n",
       "    <tr>\n",
       "      <th>Mature Aged</th>\n",
       "      <td>13.328713</td>\n",
       "      <td>0</td>\n",
       "      <td>23</td>\n",
       "    </tr>\n",
       "    <tr>\n",
       "      <th>Medium Family</th>\n",
       "      <td>13.358695</td>\n",
       "      <td>0</td>\n",
       "      <td>23</td>\n",
       "    </tr>\n",
       "    <tr>\n",
       "      <th>Middle Aged</th>\n",
       "      <td>13.357171</td>\n",
       "      <td>0</td>\n",
       "      <td>23</td>\n",
       "    </tr>\n",
       "    <tr>\n",
       "      <th>Younger</th>\n",
       "      <td>13.331248</td>\n",
       "      <td>0</td>\n",
       "      <td>23</td>\n",
       "    </tr>\n",
       "  </tbody>\n",
       "</table>\n",
       "</div>"
      ],
      "text/plain": [
       "              order_hour_of_day        \n",
       "                           mean min max\n",
       "Age_Profile                            \n",
       "Mature Aged           13.328713   0  23\n",
       "Medium Family         13.358695   0  23\n",
       "Middle Aged           13.357171   0  23\n",
       "Younger               13.331248   0  23"
      ]
     },
     "execution_count": 59,
     "metadata": {},
     "output_type": "execute_result"
    }
   ],
   "source": [
    "# Age_Profile - Does age have an effect on order_hour_of_day?\n",
    "\n",
    "df.groupby('Age_Profile').agg({'order_hour_of_day':['mean', 'min', 'max']})"
   ]
  },
  {
   "cell_type": "code",
   "execution_count": 60,
   "metadata": {},
   "outputs": [
    {
     "data": {
      "text/html": [
       "<div>\n",
       "<style scoped>\n",
       "    .dataframe tbody tr th:only-of-type {\n",
       "        vertical-align: middle;\n",
       "    }\n",
       "\n",
       "    .dataframe tbody tr th {\n",
       "        vertical-align: top;\n",
       "    }\n",
       "\n",
       "    .dataframe thead tr th {\n",
       "        text-align: left;\n",
       "    }\n",
       "\n",
       "    .dataframe thead tr:last-of-type th {\n",
       "        text-align: right;\n",
       "    }\n",
       "</style>\n",
       "<table border=\"1\" class=\"dataframe\">\n",
       "  <thead>\n",
       "    <tr>\n",
       "      <th></th>\n",
       "      <th colspan=\"3\" halign=\"left\">order_dow</th>\n",
       "    </tr>\n",
       "    <tr>\n",
       "      <th></th>\n",
       "      <th>mean</th>\n",
       "      <th>min</th>\n",
       "      <th>max</th>\n",
       "    </tr>\n",
       "    <tr>\n",
       "      <th>family_size</th>\n",
       "      <th></th>\n",
       "      <th></th>\n",
       "      <th></th>\n",
       "    </tr>\n",
       "  </thead>\n",
       "  <tbody>\n",
       "    <tr>\n",
       "      <th>Large Family</th>\n",
       "      <td>2.740060</td>\n",
       "      <td>0</td>\n",
       "      <td>6</td>\n",
       "    </tr>\n",
       "    <tr>\n",
       "      <th>Medium Family</th>\n",
       "      <td>2.759705</td>\n",
       "      <td>0</td>\n",
       "      <td>6</td>\n",
       "    </tr>\n",
       "    <tr>\n",
       "      <th>Small Family</th>\n",
       "      <td>2.748748</td>\n",
       "      <td>0</td>\n",
       "      <td>6</td>\n",
       "    </tr>\n",
       "  </tbody>\n",
       "</table>\n",
       "</div>"
      ],
      "text/plain": [
       "              order_dow        \n",
       "                   mean min max\n",
       "family_size                    \n",
       "Large Family   2.740060   0   6\n",
       "Medium Family  2.759705   0   6\n",
       "Small Family   2.748748   0   6"
      ]
     },
     "execution_count": 60,
     "metadata": {},
     "output_type": "execute_result"
    }
   ],
   "source": [
    "# Family_size - Does family size have an effect on order_dow?\n",
    "\n",
    "df.groupby('family_size').agg({'order_dow':['mean', 'min', 'max']})"
   ]
  },
  {
   "cell_type": "code",
   "execution_count": 61,
   "metadata": {},
   "outputs": [
    {
     "data": {
      "text/html": [
       "<div>\n",
       "<style scoped>\n",
       "    .dataframe tbody tr th:only-of-type {\n",
       "        vertical-align: middle;\n",
       "    }\n",
       "\n",
       "    .dataframe tbody tr th {\n",
       "        vertical-align: top;\n",
       "    }\n",
       "\n",
       "    .dataframe thead tr th {\n",
       "        text-align: left;\n",
       "    }\n",
       "\n",
       "    .dataframe thead tr:last-of-type th {\n",
       "        text-align: right;\n",
       "    }\n",
       "</style>\n",
       "<table border=\"1\" class=\"dataframe\">\n",
       "  <thead>\n",
       "    <tr>\n",
       "      <th></th>\n",
       "      <th colspan=\"3\" halign=\"left\">order_hour_of_day</th>\n",
       "    </tr>\n",
       "    <tr>\n",
       "      <th></th>\n",
       "      <th>mean</th>\n",
       "      <th>min</th>\n",
       "      <th>max</th>\n",
       "    </tr>\n",
       "    <tr>\n",
       "      <th>family_size</th>\n",
       "      <th></th>\n",
       "      <th></th>\n",
       "      <th></th>\n",
       "    </tr>\n",
       "  </thead>\n",
       "  <tbody>\n",
       "    <tr>\n",
       "      <th>Large Family</th>\n",
       "      <td>13.357866</td>\n",
       "      <td>0</td>\n",
       "      <td>23</td>\n",
       "    </tr>\n",
       "    <tr>\n",
       "      <th>Medium Family</th>\n",
       "      <td>13.358695</td>\n",
       "      <td>0</td>\n",
       "      <td>23</td>\n",
       "    </tr>\n",
       "    <tr>\n",
       "      <th>Small Family</th>\n",
       "      <td>13.335842</td>\n",
       "      <td>0</td>\n",
       "      <td>23</td>\n",
       "    </tr>\n",
       "  </tbody>\n",
       "</table>\n",
       "</div>"
      ],
      "text/plain": [
       "              order_hour_of_day        \n",
       "                           mean min max\n",
       "family_size                            \n",
       "Large Family          13.357866   0  23\n",
       "Medium Family         13.358695   0  23\n",
       "Small Family          13.335842   0  23"
      ]
     },
     "execution_count": 61,
     "metadata": {},
     "output_type": "execute_result"
    }
   ],
   "source": [
    "# Family_size - Does family size have an effect on order_hour_of_day?\n",
    "\n",
    "df.groupby('family_size').agg({'order_hour_of_day':['mean', 'min', 'max']})"
   ]
  },
  {
   "cell_type": "markdown",
   "metadata": {},
   "source": [
    "### 8. Compare your customer profiles with regions and departments. Can you identify a link between them? Customers may demonstrate different behaviors across regions, which could make this information important."
   ]
  },
  {
   "cell_type": "code",
   "execution_count": 5,
   "metadata": {},
   "outputs": [
    {
     "data": {
      "text/html": [
       "<div>\n",
       "<style scoped>\n",
       "    .dataframe tbody tr th:only-of-type {\n",
       "        vertical-align: middle;\n",
       "    }\n",
       "\n",
       "    .dataframe tbody tr th {\n",
       "        vertical-align: top;\n",
       "    }\n",
       "\n",
       "    .dataframe thead th {\n",
       "        text-align: right;\n",
       "    }\n",
       "</style>\n",
       "<table border=\"1\" class=\"dataframe\">\n",
       "  <thead>\n",
       "    <tr style=\"text-align: right;\">\n",
       "      <th>baby_profile</th>\n",
       "      <th>Baby</th>\n",
       "      <th>No Baby</th>\n",
       "    </tr>\n",
       "    <tr>\n",
       "      <th>Region</th>\n",
       "      <th></th>\n",
       "      <th></th>\n",
       "    </tr>\n",
       "  </thead>\n",
       "  <tbody>\n",
       "    <tr>\n",
       "      <th>Midwest</th>\n",
       "      <td>1728890</td>\n",
       "      <td>3601735</td>\n",
       "    </tr>\n",
       "    <tr>\n",
       "      <th>Northeast</th>\n",
       "      <td>1320267</td>\n",
       "      <td>2711648</td>\n",
       "    </tr>\n",
       "    <tr>\n",
       "      <th>South</th>\n",
       "      <td>2461512</td>\n",
       "      <td>5133488</td>\n",
       "    </tr>\n",
       "    <tr>\n",
       "      <th>West</th>\n",
       "      <td>1865323</td>\n",
       "      <td>3985476</td>\n",
       "    </tr>\n",
       "  </tbody>\n",
       "</table>\n",
       "</div>"
      ],
      "text/plain": [
       "baby_profile     Baby  No Baby\n",
       "Region                        \n",
       "Midwest       1728890  3601735\n",
       "Northeast     1320267  2711648\n",
       "South         2461512  5133488\n",
       "West          1865323  3985476"
      ]
     },
     "execution_count": 5,
     "metadata": {},
     "output_type": "execute_result"
    }
   ],
   "source": [
    "# Baby_profile by region\n",
    "\n",
    "crosstab_baby_region = pd.crosstab(df['Region'], df['baby_profile'], dropna=False )\n",
    "\n",
    "crosstab_baby_region"
   ]
  },
  {
   "cell_type": "code",
   "execution_count": 6,
   "metadata": {},
   "outputs": [
    {
     "data": {
      "text/html": [
       "<div>\n",
       "<style scoped>\n",
       "    .dataframe tbody tr th:only-of-type {\n",
       "        vertical-align: middle;\n",
       "    }\n",
       "\n",
       "    .dataframe tbody tr th {\n",
       "        vertical-align: top;\n",
       "    }\n",
       "\n",
       "    .dataframe thead th {\n",
       "        text-align: right;\n",
       "    }\n",
       "</style>\n",
       "<table border=\"1\" class=\"dataframe\">\n",
       "  <thead>\n",
       "    <tr style=\"text-align: right;\">\n",
       "      <th>baby_profile</th>\n",
       "      <th>Baby</th>\n",
       "      <th>No Baby</th>\n",
       "    </tr>\n",
       "    <tr>\n",
       "      <th>department_id_x</th>\n",
       "      <th></th>\n",
       "      <th></th>\n",
       "    </tr>\n",
       "  </thead>\n",
       "  <tbody>\n",
       "    <tr>\n",
       "      <th>1</th>\n",
       "      <td>497347</td>\n",
       "      <td>1009820</td>\n",
       "    </tr>\n",
       "    <tr>\n",
       "      <th>2</th>\n",
       "      <td>8406</td>\n",
       "      <td>16924</td>\n",
       "    </tr>\n",
       "    <tr>\n",
       "      <th>3</th>\n",
       "      <td>273612</td>\n",
       "      <td>554220</td>\n",
       "    </tr>\n",
       "    <tr>\n",
       "      <th>4</th>\n",
       "      <td>2127644</td>\n",
       "      <td>4638444</td>\n",
       "    </tr>\n",
       "    <tr>\n",
       "      <th>5</th>\n",
       "      <td>14814</td>\n",
       "      <td>84771</td>\n",
       "    </tr>\n",
       "    <tr>\n",
       "      <th>6</th>\n",
       "      <td>55986</td>\n",
       "      <td>127872</td>\n",
       "    </tr>\n",
       "    <tr>\n",
       "      <th>7</th>\n",
       "      <td>485318</td>\n",
       "      <td>1416015</td>\n",
       "    </tr>\n",
       "    <tr>\n",
       "      <th>8</th>\n",
       "      <td>16789</td>\n",
       "      <td>49985</td>\n",
       "    </tr>\n",
       "    <tr>\n",
       "      <th>9</th>\n",
       "      <td>215301</td>\n",
       "      <td>372255</td>\n",
       "    </tr>\n",
       "    <tr>\n",
       "      <th>10</th>\n",
       "      <td>7659</td>\n",
       "      <td>18347</td>\n",
       "    </tr>\n",
       "    <tr>\n",
       "      <th>11</th>\n",
       "      <td>102059</td>\n",
       "      <td>203063</td>\n",
       "    </tr>\n",
       "    <tr>\n",
       "      <th>12</th>\n",
       "      <td>157256</td>\n",
       "      <td>328854</td>\n",
       "    </tr>\n",
       "    <tr>\n",
       "      <th>13</th>\n",
       "      <td>389910</td>\n",
       "      <td>898242</td>\n",
       "    </tr>\n",
       "    <tr>\n",
       "      <th>14</th>\n",
       "      <td>156251</td>\n",
       "      <td>337162</td>\n",
       "    </tr>\n",
       "    <tr>\n",
       "      <th>15</th>\n",
       "      <td>237324</td>\n",
       "      <td>494763</td>\n",
       "    </tr>\n",
       "    <tr>\n",
       "      <th>16</th>\n",
       "      <td>1308730</td>\n",
       "      <td>2560241</td>\n",
       "    </tr>\n",
       "    <tr>\n",
       "      <th>17</th>\n",
       "      <td>161433</td>\n",
       "      <td>337956</td>\n",
       "    </tr>\n",
       "    <tr>\n",
       "      <th>18</th>\n",
       "      <td>317100</td>\n",
       "      <td>0</td>\n",
       "    </tr>\n",
       "    <tr>\n",
       "      <th>19</th>\n",
       "      <td>599817</td>\n",
       "      <td>1443514</td>\n",
       "    </tr>\n",
       "    <tr>\n",
       "      <th>20</th>\n",
       "      <td>226255</td>\n",
       "      <td>502064</td>\n",
       "    </tr>\n",
       "    <tr>\n",
       "      <th>21</th>\n",
       "      <td>16981</td>\n",
       "      <td>37835</td>\n",
       "    </tr>\n",
       "  </tbody>\n",
       "</table>\n",
       "</div>"
      ],
      "text/plain": [
       "baby_profile        Baby  No Baby\n",
       "department_id_x                  \n",
       "1                 497347  1009820\n",
       "2                   8406    16924\n",
       "3                 273612   554220\n",
       "4                2127644  4638444\n",
       "5                  14814    84771\n",
       "6                  55986   127872\n",
       "7                 485318  1416015\n",
       "8                  16789    49985\n",
       "9                 215301   372255\n",
       "10                  7659    18347\n",
       "11                102059   203063\n",
       "12                157256   328854\n",
       "13                389910   898242\n",
       "14                156251   337162\n",
       "15                237324   494763\n",
       "16               1308730  2560241\n",
       "17                161433   337956\n",
       "18                317100        0\n",
       "19                599817  1443514\n",
       "20                226255   502064\n",
       "21                 16981    37835"
      ]
     },
     "execution_count": 6,
     "metadata": {},
     "output_type": "execute_result"
    }
   ],
   "source": [
    "# Baby_profile by departments\n",
    "\n",
    "crosstab_baby_departments = pd.crosstab(df['department_id_x'], df['baby_profile'], dropna=False )\n",
    "\n",
    "crosstab_baby_departments"
   ]
  },
  {
   "cell_type": "code",
   "execution_count": 7,
   "metadata": {},
   "outputs": [
    {
     "data": {
      "text/html": [
       "<div>\n",
       "<style scoped>\n",
       "    .dataframe tbody tr th:only-of-type {\n",
       "        vertical-align: middle;\n",
       "    }\n",
       "\n",
       "    .dataframe tbody tr th {\n",
       "        vertical-align: top;\n",
       "    }\n",
       "\n",
       "    .dataframe thead th {\n",
       "        text-align: right;\n",
       "    }\n",
       "</style>\n",
       "<table border=\"1\" class=\"dataframe\">\n",
       "  <thead>\n",
       "    <tr style=\"text-align: right;\">\n",
       "      <th>income_flag</th>\n",
       "      <th>Average Income</th>\n",
       "      <th>Higher Income</th>\n",
       "      <th>Lower Income</th>\n",
       "    </tr>\n",
       "    <tr>\n",
       "      <th>Region</th>\n",
       "      <th></th>\n",
       "      <th></th>\n",
       "      <th></th>\n",
       "    </tr>\n",
       "  </thead>\n",
       "  <tbody>\n",
       "    <tr>\n",
       "      <th>Midwest</th>\n",
       "      <td>2659147</td>\n",
       "      <td>1356933</td>\n",
       "      <td>1314545</td>\n",
       "    </tr>\n",
       "    <tr>\n",
       "      <th>Northeast</th>\n",
       "      <td>2016777</td>\n",
       "      <td>1008638</td>\n",
       "      <td>1006500</td>\n",
       "    </tr>\n",
       "    <tr>\n",
       "      <th>South</th>\n",
       "      <td>3802248</td>\n",
       "      <td>1879066</td>\n",
       "      <td>1913686</td>\n",
       "    </tr>\n",
       "    <tr>\n",
       "      <th>West</th>\n",
       "      <td>2925696</td>\n",
       "      <td>1457665</td>\n",
       "      <td>1467438</td>\n",
       "    </tr>\n",
       "  </tbody>\n",
       "</table>\n",
       "</div>"
      ],
      "text/plain": [
       "income_flag  Average Income  Higher Income  Lower Income\n",
       "Region                                                  \n",
       "Midwest             2659147        1356933       1314545\n",
       "Northeast           2016777        1008638       1006500\n",
       "South               3802248        1879066       1913686\n",
       "West                2925696        1457665       1467438"
      ]
     },
     "execution_count": 7,
     "metadata": {},
     "output_type": "execute_result"
    }
   ],
   "source": [
    "# income_flag by region\n",
    "\n",
    "crosstab_income_region = pd.crosstab(df['Region'], df['income_flag'], dropna=False )\n",
    "\n",
    "crosstab_income_region"
   ]
  },
  {
   "cell_type": "code",
   "execution_count": 8,
   "metadata": {},
   "outputs": [
    {
     "data": {
      "text/html": [
       "<div>\n",
       "<style scoped>\n",
       "    .dataframe tbody tr th:only-of-type {\n",
       "        vertical-align: middle;\n",
       "    }\n",
       "\n",
       "    .dataframe tbody tr th {\n",
       "        vertical-align: top;\n",
       "    }\n",
       "\n",
       "    .dataframe thead th {\n",
       "        text-align: right;\n",
       "    }\n",
       "</style>\n",
       "<table border=\"1\" class=\"dataframe\">\n",
       "  <thead>\n",
       "    <tr style=\"text-align: right;\">\n",
       "      <th>income_flag</th>\n",
       "      <th>Average Income</th>\n",
       "      <th>Higher Income</th>\n",
       "      <th>Lower Income</th>\n",
       "    </tr>\n",
       "    <tr>\n",
       "      <th>department_id_x</th>\n",
       "      <th></th>\n",
       "      <th></th>\n",
       "      <th></th>\n",
       "    </tr>\n",
       "  </thead>\n",
       "  <tbody>\n",
       "    <tr>\n",
       "      <th>1</th>\n",
       "      <td>760412</td>\n",
       "      <td>386662</td>\n",
       "      <td>360093</td>\n",
       "    </tr>\n",
       "    <tr>\n",
       "      <th>2</th>\n",
       "      <td>12699</td>\n",
       "      <td>6440</td>\n",
       "      <td>6191</td>\n",
       "    </tr>\n",
       "    <tr>\n",
       "      <th>3</th>\n",
       "      <td>416601</td>\n",
       "      <td>214972</td>\n",
       "      <td>196259</td>\n",
       "    </tr>\n",
       "    <tr>\n",
       "      <th>4</th>\n",
       "      <td>3475324</td>\n",
       "      <td>1703298</td>\n",
       "      <td>1587466</td>\n",
       "    </tr>\n",
       "    <tr>\n",
       "      <th>5</th>\n",
       "      <td>46404</td>\n",
       "      <td>28898</td>\n",
       "      <td>24283</td>\n",
       "    </tr>\n",
       "    <tr>\n",
       "      <th>6</th>\n",
       "      <td>95623</td>\n",
       "      <td>46837</td>\n",
       "      <td>41398</td>\n",
       "    </tr>\n",
       "    <tr>\n",
       "      <th>7</th>\n",
       "      <td>893912</td>\n",
       "      <td>458402</td>\n",
       "      <td>549019</td>\n",
       "    </tr>\n",
       "    <tr>\n",
       "      <th>8</th>\n",
       "      <td>33274</td>\n",
       "      <td>18073</td>\n",
       "      <td>15427</td>\n",
       "    </tr>\n",
       "    <tr>\n",
       "      <th>9</th>\n",
       "      <td>307911</td>\n",
       "      <td>152345</td>\n",
       "      <td>127300</td>\n",
       "    </tr>\n",
       "    <tr>\n",
       "      <th>10</th>\n",
       "      <td>12927</td>\n",
       "      <td>5792</td>\n",
       "      <td>7287</td>\n",
       "    </tr>\n",
       "    <tr>\n",
       "      <th>11</th>\n",
       "      <td>151294</td>\n",
       "      <td>76557</td>\n",
       "      <td>77271</td>\n",
       "    </tr>\n",
       "    <tr>\n",
       "      <th>12</th>\n",
       "      <td>261707</td>\n",
       "      <td>131839</td>\n",
       "      <td>92564</td>\n",
       "    </tr>\n",
       "    <tr>\n",
       "      <th>13</th>\n",
       "      <td>656336</td>\n",
       "      <td>329898</td>\n",
       "      <td>301918</td>\n",
       "    </tr>\n",
       "    <tr>\n",
       "      <th>14</th>\n",
       "      <td>235014</td>\n",
       "      <td>119595</td>\n",
       "      <td>138804</td>\n",
       "    </tr>\n",
       "    <tr>\n",
       "      <th>15</th>\n",
       "      <td>379150</td>\n",
       "      <td>192403</td>\n",
       "      <td>160534</td>\n",
       "    </tr>\n",
       "    <tr>\n",
       "      <th>16</th>\n",
       "      <td>1968670</td>\n",
       "      <td>980518</td>\n",
       "      <td>919783</td>\n",
       "    </tr>\n",
       "    <tr>\n",
       "      <th>17</th>\n",
       "      <td>241829</td>\n",
       "      <td>127017</td>\n",
       "      <td>130543</td>\n",
       "    </tr>\n",
       "    <tr>\n",
       "      <th>18</th>\n",
       "      <td>170101</td>\n",
       "      <td>82106</td>\n",
       "      <td>64893</td>\n",
       "    </tr>\n",
       "    <tr>\n",
       "      <th>19</th>\n",
       "      <td>891050</td>\n",
       "      <td>444361</td>\n",
       "      <td>707920</td>\n",
       "    </tr>\n",
       "    <tr>\n",
       "      <th>20</th>\n",
       "      <td>366281</td>\n",
       "      <td>182488</td>\n",
       "      <td>179550</td>\n",
       "    </tr>\n",
       "    <tr>\n",
       "      <th>21</th>\n",
       "      <td>27349</td>\n",
       "      <td>13801</td>\n",
       "      <td>13666</td>\n",
       "    </tr>\n",
       "  </tbody>\n",
       "</table>\n",
       "</div>"
      ],
      "text/plain": [
       "income_flag      Average Income  Higher Income  Lower Income\n",
       "department_id_x                                             \n",
       "1                        760412         386662        360093\n",
       "2                         12699           6440          6191\n",
       "3                        416601         214972        196259\n",
       "4                       3475324        1703298       1587466\n",
       "5                         46404          28898         24283\n",
       "6                         95623          46837         41398\n",
       "7                        893912         458402        549019\n",
       "8                         33274          18073         15427\n",
       "9                        307911         152345        127300\n",
       "10                        12927           5792          7287\n",
       "11                       151294          76557         77271\n",
       "12                       261707         131839         92564\n",
       "13                       656336         329898        301918\n",
       "14                       235014         119595        138804\n",
       "15                       379150         192403        160534\n",
       "16                      1968670         980518        919783\n",
       "17                       241829         127017        130543\n",
       "18                       170101          82106         64893\n",
       "19                       891050         444361        707920\n",
       "20                       366281         182488        179550\n",
       "21                        27349          13801         13666"
      ]
     },
     "execution_count": 8,
     "metadata": {},
     "output_type": "execute_result"
    }
   ],
   "source": [
    "# income_flag by departments\n",
    "\n",
    "crosstab_income_departments = pd.crosstab(df['department_id_x'], df['income_flag'], dropna=False )\n",
    "\n",
    "crosstab_income_departments"
   ]
  },
  {
   "cell_type": "code",
   "execution_count": 9,
   "metadata": {},
   "outputs": [
    {
     "data": {
      "text/html": [
       "<div>\n",
       "<style scoped>\n",
       "    .dataframe tbody tr th:only-of-type {\n",
       "        vertical-align: middle;\n",
       "    }\n",
       "\n",
       "    .dataframe tbody tr th {\n",
       "        vertical-align: top;\n",
       "    }\n",
       "\n",
       "    .dataframe thead th {\n",
       "        text-align: right;\n",
       "    }\n",
       "</style>\n",
       "<table border=\"1\" class=\"dataframe\">\n",
       "  <thead>\n",
       "    <tr style=\"text-align: right;\">\n",
       "      <th>Age_Profile</th>\n",
       "      <th>Mature Aged</th>\n",
       "      <th>Medium Family</th>\n",
       "      <th>Middle Aged</th>\n",
       "      <th>Younger</th>\n",
       "    </tr>\n",
       "    <tr>\n",
       "      <th>Region</th>\n",
       "      <th></th>\n",
       "      <th></th>\n",
       "      <th></th>\n",
       "      <th></th>\n",
       "    </tr>\n",
       "  </thead>\n",
       "  <tbody>\n",
       "    <tr>\n",
       "      <th>Midwest</th>\n",
       "      <td>1040553</td>\n",
       "      <td>1323525</td>\n",
       "      <td>1975309</td>\n",
       "      <td>991238</td>\n",
       "    </tr>\n",
       "    <tr>\n",
       "      <th>Northeast</th>\n",
       "      <td>830761</td>\n",
       "      <td>998733</td>\n",
       "      <td>1432999</td>\n",
       "      <td>769422</td>\n",
       "    </tr>\n",
       "    <tr>\n",
       "      <th>South</th>\n",
       "      <td>1476815</td>\n",
       "      <td>1918642</td>\n",
       "      <td>2755657</td>\n",
       "      <td>1443886</td>\n",
       "    </tr>\n",
       "    <tr>\n",
       "      <th>West</th>\n",
       "      <td>1138560</td>\n",
       "      <td>1450848</td>\n",
       "      <td>2178192</td>\n",
       "      <td>1083199</td>\n",
       "    </tr>\n",
       "  </tbody>\n",
       "</table>\n",
       "</div>"
      ],
      "text/plain": [
       "Age_Profile  Mature Aged  Medium Family  Middle Aged  Younger\n",
       "Region                                                       \n",
       "Midwest          1040553        1323525      1975309   991238\n",
       "Northeast         830761         998733      1432999   769422\n",
       "South            1476815        1918642      2755657  1443886\n",
       "West             1138560        1450848      2178192  1083199"
      ]
     },
     "execution_count": 9,
     "metadata": {},
     "output_type": "execute_result"
    }
   ],
   "source": [
    "# Age_Profile by region\n",
    "\n",
    "crosstab_age_region = pd.crosstab(df['Region'], df['Age_Profile'], dropna=False )\n",
    "\n",
    "crosstab_age_region"
   ]
  },
  {
   "cell_type": "code",
   "execution_count": 11,
   "metadata": {},
   "outputs": [
    {
     "data": {
      "text/html": [
       "<div>\n",
       "<style scoped>\n",
       "    .dataframe tbody tr th:only-of-type {\n",
       "        vertical-align: middle;\n",
       "    }\n",
       "\n",
       "    .dataframe tbody tr th {\n",
       "        vertical-align: top;\n",
       "    }\n",
       "\n",
       "    .dataframe thead th {\n",
       "        text-align: right;\n",
       "    }\n",
       "</style>\n",
       "<table border=\"1\" class=\"dataframe\">\n",
       "  <thead>\n",
       "    <tr style=\"text-align: right;\">\n",
       "      <th>Age_Profile</th>\n",
       "      <th>Mature Aged</th>\n",
       "      <th>Medium Family</th>\n",
       "      <th>Middle Aged</th>\n",
       "      <th>Younger</th>\n",
       "    </tr>\n",
       "    <tr>\n",
       "      <th>department_id_x</th>\n",
       "      <th></th>\n",
       "      <th></th>\n",
       "      <th></th>\n",
       "      <th></th>\n",
       "    </tr>\n",
       "  </thead>\n",
       "  <tbody>\n",
       "    <tr>\n",
       "      <th>1</th>\n",
       "      <td>297370</td>\n",
       "      <td>379770</td>\n",
       "      <td>551000</td>\n",
       "      <td>279027</td>\n",
       "    </tr>\n",
       "    <tr>\n",
       "      <th>2</th>\n",
       "      <td>4828</td>\n",
       "      <td>6295</td>\n",
       "      <td>9271</td>\n",
       "      <td>4936</td>\n",
       "    </tr>\n",
       "    <tr>\n",
       "      <th>3</th>\n",
       "      <td>162950</td>\n",
       "      <td>206041</td>\n",
       "      <td>302567</td>\n",
       "      <td>156274</td>\n",
       "    </tr>\n",
       "    <tr>\n",
       "      <th>4</th>\n",
       "      <td>1337338</td>\n",
       "      <td>1678963</td>\n",
       "      <td>2477563</td>\n",
       "      <td>1272224</td>\n",
       "    </tr>\n",
       "    <tr>\n",
       "      <th>5</th>\n",
       "      <td>18641</td>\n",
       "      <td>23159</td>\n",
       "      <td>37685</td>\n",
       "      <td>20100</td>\n",
       "    </tr>\n",
       "    <tr>\n",
       "      <th>6</th>\n",
       "      <td>35452</td>\n",
       "      <td>45178</td>\n",
       "      <td>67630</td>\n",
       "      <td>35598</td>\n",
       "    </tr>\n",
       "    <tr>\n",
       "      <th>7</th>\n",
       "      <td>375541</td>\n",
       "      <td>479030</td>\n",
       "      <td>695517</td>\n",
       "      <td>351245</td>\n",
       "    </tr>\n",
       "    <tr>\n",
       "      <th>8</th>\n",
       "      <td>14141</td>\n",
       "      <td>16119</td>\n",
       "      <td>23197</td>\n",
       "      <td>13317</td>\n",
       "    </tr>\n",
       "    <tr>\n",
       "      <th>9</th>\n",
       "      <td>114841</td>\n",
       "      <td>146156</td>\n",
       "      <td>214888</td>\n",
       "      <td>111671</td>\n",
       "    </tr>\n",
       "    <tr>\n",
       "      <th>10</th>\n",
       "      <td>5329</td>\n",
       "      <td>6529</td>\n",
       "      <td>9187</td>\n",
       "      <td>4961</td>\n",
       "    </tr>\n",
       "    <tr>\n",
       "      <th>11</th>\n",
       "      <td>59409</td>\n",
       "      <td>76236</td>\n",
       "      <td>112694</td>\n",
       "      <td>56783</td>\n",
       "    </tr>\n",
       "    <tr>\n",
       "      <th>12</th>\n",
       "      <td>97117</td>\n",
       "      <td>121353</td>\n",
       "      <td>176392</td>\n",
       "      <td>91248</td>\n",
       "    </tr>\n",
       "    <tr>\n",
       "      <th>13</th>\n",
       "      <td>251753</td>\n",
       "      <td>322777</td>\n",
       "      <td>470581</td>\n",
       "      <td>243041</td>\n",
       "    </tr>\n",
       "    <tr>\n",
       "      <th>14</th>\n",
       "      <td>95941</td>\n",
       "      <td>122898</td>\n",
       "      <td>181467</td>\n",
       "      <td>93107</td>\n",
       "    </tr>\n",
       "    <tr>\n",
       "      <th>15</th>\n",
       "      <td>142811</td>\n",
       "      <td>182699</td>\n",
       "      <td>267513</td>\n",
       "      <td>139064</td>\n",
       "    </tr>\n",
       "    <tr>\n",
       "      <th>16</th>\n",
       "      <td>759510</td>\n",
       "      <td>962297</td>\n",
       "      <td>1412574</td>\n",
       "      <td>734590</td>\n",
       "    </tr>\n",
       "    <tr>\n",
       "      <th>17</th>\n",
       "      <td>98988</td>\n",
       "      <td>126300</td>\n",
       "      <td>182310</td>\n",
       "      <td>91791</td>\n",
       "    </tr>\n",
       "    <tr>\n",
       "      <th>18</th>\n",
       "      <td>59766</td>\n",
       "      <td>81031</td>\n",
       "      <td>118370</td>\n",
       "      <td>57933</td>\n",
       "    </tr>\n",
       "    <tr>\n",
       "      <th>19</th>\n",
       "      <td>401444</td>\n",
       "      <td>514261</td>\n",
       "      <td>745040</td>\n",
       "      <td>382586</td>\n",
       "    </tr>\n",
       "    <tr>\n",
       "      <th>20</th>\n",
       "      <td>143184</td>\n",
       "      <td>180699</td>\n",
       "      <td>266815</td>\n",
       "      <td>137621</td>\n",
       "    </tr>\n",
       "    <tr>\n",
       "      <th>21</th>\n",
       "      <td>10335</td>\n",
       "      <td>13957</td>\n",
       "      <td>19896</td>\n",
       "      <td>10628</td>\n",
       "    </tr>\n",
       "  </tbody>\n",
       "</table>\n",
       "</div>"
      ],
      "text/plain": [
       "Age_Profile      Mature Aged  Medium Family  Middle Aged  Younger\n",
       "department_id_x                                                  \n",
       "1                     297370         379770       551000   279027\n",
       "2                       4828           6295         9271     4936\n",
       "3                     162950         206041       302567   156274\n",
       "4                    1337338        1678963      2477563  1272224\n",
       "5                      18641          23159        37685    20100\n",
       "6                      35452          45178        67630    35598\n",
       "7                     375541         479030       695517   351245\n",
       "8                      14141          16119        23197    13317\n",
       "9                     114841         146156       214888   111671\n",
       "10                      5329           6529         9187     4961\n",
       "11                     59409          76236       112694    56783\n",
       "12                     97117         121353       176392    91248\n",
       "13                    251753         322777       470581   243041\n",
       "14                     95941         122898       181467    93107\n",
       "15                    142811         182699       267513   139064\n",
       "16                    759510         962297      1412574   734590\n",
       "17                     98988         126300       182310    91791\n",
       "18                     59766          81031       118370    57933\n",
       "19                    401444         514261       745040   382586\n",
       "20                    143184         180699       266815   137621\n",
       "21                     10335          13957        19896    10628"
      ]
     },
     "execution_count": 11,
     "metadata": {},
     "output_type": "execute_result"
    }
   ],
   "source": [
    "# Age_Profile by departments\n",
    "\n",
    "crosstab_age_departments = pd.crosstab(df['department_id_x'], df['Age_Profile'], dropna=False )\n",
    "\n",
    "crosstab_age_departments"
   ]
  },
  {
   "cell_type": "code",
   "execution_count": 12,
   "metadata": {},
   "outputs": [
    {
     "data": {
      "text/html": [
       "<div>\n",
       "<style scoped>\n",
       "    .dataframe tbody tr th:only-of-type {\n",
       "        vertical-align: middle;\n",
       "    }\n",
       "\n",
       "    .dataframe tbody tr th {\n",
       "        vertical-align: top;\n",
       "    }\n",
       "\n",
       "    .dataframe thead th {\n",
       "        text-align: right;\n",
       "    }\n",
       "</style>\n",
       "<table border=\"1\" class=\"dataframe\">\n",
       "  <thead>\n",
       "    <tr style=\"text-align: right;\">\n",
       "      <th>family_size</th>\n",
       "      <th>Large Family</th>\n",
       "      <th>Medium Family</th>\n",
       "      <th>Small Family</th>\n",
       "    </tr>\n",
       "    <tr>\n",
       "      <th>Region</th>\n",
       "      <th></th>\n",
       "      <th></th>\n",
       "      <th></th>\n",
       "    </tr>\n",
       "  </thead>\n",
       "  <tbody>\n",
       "    <tr>\n",
       "      <th>Midwest</th>\n",
       "      <td>1306378</td>\n",
       "      <td>1323525</td>\n",
       "      <td>2700722</td>\n",
       "    </tr>\n",
       "    <tr>\n",
       "      <th>Northeast</th>\n",
       "      <td>1023965</td>\n",
       "      <td>998733</td>\n",
       "      <td>2009217</td>\n",
       "    </tr>\n",
       "    <tr>\n",
       "      <th>South</th>\n",
       "      <td>1905853</td>\n",
       "      <td>1918642</td>\n",
       "      <td>3770505</td>\n",
       "    </tr>\n",
       "    <tr>\n",
       "      <th>West</th>\n",
       "      <td>1496167</td>\n",
       "      <td>1450848</td>\n",
       "      <td>2903784</td>\n",
       "    </tr>\n",
       "  </tbody>\n",
       "</table>\n",
       "</div>"
      ],
      "text/plain": [
       "family_size  Large Family  Medium Family  Small Family\n",
       "Region                                                \n",
       "Midwest           1306378        1323525       2700722\n",
       "Northeast         1023965         998733       2009217\n",
       "South             1905853        1918642       3770505\n",
       "West              1496167        1450848       2903784"
      ]
     },
     "execution_count": 12,
     "metadata": {},
     "output_type": "execute_result"
    }
   ],
   "source": [
    "# family_size by region\n",
    "\n",
    "crosstab_family_region = pd.crosstab(df['Region'], df['family_size'], dropna=False )\n",
    "\n",
    "crosstab_family_region"
   ]
  },
  {
   "cell_type": "code",
   "execution_count": 13,
   "metadata": {},
   "outputs": [
    {
     "data": {
      "text/html": [
       "<div>\n",
       "<style scoped>\n",
       "    .dataframe tbody tr th:only-of-type {\n",
       "        vertical-align: middle;\n",
       "    }\n",
       "\n",
       "    .dataframe tbody tr th {\n",
       "        vertical-align: top;\n",
       "    }\n",
       "\n",
       "    .dataframe thead th {\n",
       "        text-align: right;\n",
       "    }\n",
       "</style>\n",
       "<table border=\"1\" class=\"dataframe\">\n",
       "  <thead>\n",
       "    <tr style=\"text-align: right;\">\n",
       "      <th>family_size</th>\n",
       "      <th>Large Family</th>\n",
       "      <th>Medium Family</th>\n",
       "      <th>Small Family</th>\n",
       "    </tr>\n",
       "    <tr>\n",
       "      <th>department_id_x</th>\n",
       "      <th></th>\n",
       "      <th></th>\n",
       "      <th></th>\n",
       "    </tr>\n",
       "  </thead>\n",
       "  <tbody>\n",
       "    <tr>\n",
       "      <th>1</th>\n",
       "      <td>379290</td>\n",
       "      <td>379770</td>\n",
       "      <td>748107</td>\n",
       "    </tr>\n",
       "    <tr>\n",
       "      <th>2</th>\n",
       "      <td>6138</td>\n",
       "      <td>6295</td>\n",
       "      <td>12897</td>\n",
       "    </tr>\n",
       "    <tr>\n",
       "      <th>3</th>\n",
       "      <td>207324</td>\n",
       "      <td>206041</td>\n",
       "      <td>414467</td>\n",
       "    </tr>\n",
       "    <tr>\n",
       "      <th>4</th>\n",
       "      <td>1707244</td>\n",
       "      <td>1678963</td>\n",
       "      <td>3379881</td>\n",
       "    </tr>\n",
       "    <tr>\n",
       "      <th>5</th>\n",
       "      <td>26004</td>\n",
       "      <td>23159</td>\n",
       "      <td>50422</td>\n",
       "    </tr>\n",
       "    <tr>\n",
       "      <th>6</th>\n",
       "      <td>45596</td>\n",
       "      <td>45178</td>\n",
       "      <td>93084</td>\n",
       "    </tr>\n",
       "    <tr>\n",
       "      <th>7</th>\n",
       "      <td>472457</td>\n",
       "      <td>479030</td>\n",
       "      <td>949846</td>\n",
       "    </tr>\n",
       "    <tr>\n",
       "      <th>8</th>\n",
       "      <td>16890</td>\n",
       "      <td>16119</td>\n",
       "      <td>33765</td>\n",
       "    </tr>\n",
       "    <tr>\n",
       "      <th>9</th>\n",
       "      <td>149003</td>\n",
       "      <td>146156</td>\n",
       "      <td>292397</td>\n",
       "    </tr>\n",
       "    <tr>\n",
       "      <th>10</th>\n",
       "      <td>6569</td>\n",
       "      <td>6529</td>\n",
       "      <td>12908</td>\n",
       "    </tr>\n",
       "    <tr>\n",
       "      <th>11</th>\n",
       "      <td>76471</td>\n",
       "      <td>76236</td>\n",
       "      <td>152415</td>\n",
       "    </tr>\n",
       "    <tr>\n",
       "      <th>12</th>\n",
       "      <td>124286</td>\n",
       "      <td>121353</td>\n",
       "      <td>240471</td>\n",
       "    </tr>\n",
       "    <tr>\n",
       "      <th>13</th>\n",
       "      <td>323300</td>\n",
       "      <td>322777</td>\n",
       "      <td>642075</td>\n",
       "    </tr>\n",
       "    <tr>\n",
       "      <th>14</th>\n",
       "      <td>123404</td>\n",
       "      <td>122898</td>\n",
       "      <td>247111</td>\n",
       "    </tr>\n",
       "    <tr>\n",
       "      <th>15</th>\n",
       "      <td>184686</td>\n",
       "      <td>182699</td>\n",
       "      <td>364702</td>\n",
       "    </tr>\n",
       "    <tr>\n",
       "      <th>16</th>\n",
       "      <td>969414</td>\n",
       "      <td>962297</td>\n",
       "      <td>1937260</td>\n",
       "    </tr>\n",
       "    <tr>\n",
       "      <th>17</th>\n",
       "      <td>125657</td>\n",
       "      <td>126300</td>\n",
       "      <td>247432</td>\n",
       "    </tr>\n",
       "    <tr>\n",
       "      <th>18</th>\n",
       "      <td>79756</td>\n",
       "      <td>81031</td>\n",
       "      <td>156313</td>\n",
       "    </tr>\n",
       "    <tr>\n",
       "      <th>19</th>\n",
       "      <td>511277</td>\n",
       "      <td>514261</td>\n",
       "      <td>1017793</td>\n",
       "    </tr>\n",
       "    <tr>\n",
       "      <th>20</th>\n",
       "      <td>183702</td>\n",
       "      <td>180699</td>\n",
       "      <td>363918</td>\n",
       "    </tr>\n",
       "    <tr>\n",
       "      <th>21</th>\n",
       "      <td>13895</td>\n",
       "      <td>13957</td>\n",
       "      <td>26964</td>\n",
       "    </tr>\n",
       "  </tbody>\n",
       "</table>\n",
       "</div>"
      ],
      "text/plain": [
       "family_size      Large Family  Medium Family  Small Family\n",
       "department_id_x                                           \n",
       "1                      379290         379770        748107\n",
       "2                        6138           6295         12897\n",
       "3                      207324         206041        414467\n",
       "4                     1707244        1678963       3379881\n",
       "5                       26004          23159         50422\n",
       "6                       45596          45178         93084\n",
       "7                      472457         479030        949846\n",
       "8                       16890          16119         33765\n",
       "9                      149003         146156        292397\n",
       "10                       6569           6529         12908\n",
       "11                      76471          76236        152415\n",
       "12                     124286         121353        240471\n",
       "13                     323300         322777        642075\n",
       "14                     123404         122898        247111\n",
       "15                     184686         182699        364702\n",
       "16                     969414         962297       1937260\n",
       "17                     125657         126300        247432\n",
       "18                      79756          81031        156313\n",
       "19                     511277         514261       1017793\n",
       "20                     183702         180699        363918\n",
       "21                      13895          13957         26964"
      ]
     },
     "execution_count": 13,
     "metadata": {},
     "output_type": "execute_result"
    }
   ],
   "source": [
    "# family_size by departments\n",
    "\n",
    "crosstab_family_departments = pd.crosstab(df['department_id_x'], df['family_size'], dropna=False )\n",
    "\n",
    "crosstab_family_departments"
   ]
  },
  {
   "cell_type": "markdown",
   "metadata": {},
   "source": [
    "### 9. Produce suitable charts to illustrate your results and export them in your project folder."
   ]
  },
  {
   "cell_type": "code",
   "execution_count": 14,
   "metadata": {},
   "outputs": [
    {
     "data": {
      "text/plain": [
       "<matplotlib.legend.Legend at 0x7ffc8b69b6d0>"
      ]
     },
     "execution_count": 14,
     "metadata": {},
     "output_type": "execute_result"
    },
    {
     "data": {
      "image/png": "[encoded data removed]",
      "text/plain": [
       "<Figure size 432x288 with 1 Axes>"
      ]
     },
     "metadata": {
      "needs_background": "light"
     },
     "output_type": "display_data"
    }
   ],
   "source": [
    "# Baby in Region\n",
    "\n",
    "baby_region_profile = crosstab_baby_region.plot.bar(stacked= True)\n",
    "plt.legend(title = 'Baby in Region')"
   ]
  },
  {
   "cell_type": "code",
   "execution_count": 16,
   "metadata": {},
   "outputs": [],
   "source": [
    "baby_region_profile.figure.savefig(r'/Users/laceymarchment/Desktop/Instacart Basket Analysis/04 Analysis/Visualisations/baby_region_profile.png')"
   ]
  },
  {
   "cell_type": "code",
   "execution_count": 17,
   "metadata": {},
   "outputs": [
    {
     "data": {
      "text/plain": [
       "<matplotlib.legend.Legend at 0x7ffc8b862be0>"
      ]
     },
     "execution_count": 17,
     "metadata": {},
     "output_type": "execute_result"
    },
    {
     "data": {
      "image/png": "[encoded data removed]",
      "text/plain": [
       "<Figure size 432x288 with 1 Axes>"
      ]
     },
     "metadata": {
      "needs_background": "light"
     },
     "output_type": "display_data"
    }
   ],
   "source": [
    "# Baby across departments\n",
    "\n",
    "baby_departments_profile = crosstab_baby_departments.plot.bar(stacked= True)\n",
    "plt.legend(title = 'Baby Across Departments')"
   ]
  },
  {
   "cell_type": "code",
   "execution_count": 18,
   "metadata": {},
   "outputs": [],
   "source": [
    "baby_departments_profile.figure.savefig(r'/Users/laceymarchment/Desktop/Instacart Basket Analysis/04 Analysis/Visualisations/baby_departments_profile.png')"
   ]
  },
  {
   "cell_type": "code",
   "execution_count": 20,
   "metadata": {},
   "outputs": [
    {
     "data": {
      "text/plain": [
       "<matplotlib.legend.Legend at 0x7ffc7829eca0>"
      ]
     },
     "execution_count": 20,
     "metadata": {},
     "output_type": "execute_result"
    },
    {
     "data": {
      "image/png": "[encoded data removed]",
      "text/plain": [
       "<Figure size 432x288 with 1 Axes>"
      ]
     },
     "metadata": {
      "needs_background": "light"
     },
     "output_type": "display_data"
    }
   ],
   "source": [
    "# Income Across Regions\n",
    "\n",
    "income_region_profile = crosstab_income_region.plot.bar(stacked= True)\n",
    "plt.legend(title = 'Income Across Regions')"
   ]
  },
  {
   "cell_type": "code",
   "execution_count": 21,
   "metadata": {},
   "outputs": [],
   "source": [
    "income_region_profile.figure.savefig(r'/Users/laceymarchment/Desktop/Instacart Basket Analysis/04 Analysis/Visualisations/income_region_profile.png')"
   ]
  },
  {
   "cell_type": "code",
   "execution_count": 22,
   "metadata": {},
   "outputs": [
    {
     "data": {
      "text/plain": [
       "<matplotlib.legend.Legend at 0x7ffc8b6fc4f0>"
      ]
     },
     "execution_count": 22,
     "metadata": {},
     "output_type": "execute_result"
    },
    {
     "data": {
      "image/png": "[encoded data removed]",
      "text/plain": [
       "<Figure size 432x288 with 1 Axes>"
      ]
     },
     "metadata": {
      "needs_background": "light"
     },
     "output_type": "display_data"
    }
   ],
   "source": [
    "# Income across departments\n",
    "\n",
    "income_departments_profile = crosstab_income_departments.plot.bar(stacked= True)\n",
    "plt.legend(title = 'Income Across Departments')"
   ]
  },
  {
   "cell_type": "code",
   "execution_count": 23,
   "metadata": {},
   "outputs": [],
   "source": [
    "income_departments_profile.figure.savefig(r'/Users/laceymarchment/Desktop/Instacart Basket Analysis/04 Analysis/Visualisations/income_departments_profile.png')"
   ]
  },
  {
   "cell_type": "code",
   "execution_count": 24,
   "metadata": {},
   "outputs": [
    {
     "data": {
      "text/plain": [
       "<matplotlib.legend.Legend at 0x7ffc591aae50>"
      ]
     },
     "execution_count": 24,
     "metadata": {},
     "output_type": "execute_result"
    },
    {
     "data": {
      "image/png": "[encoded data removed]",
      "text/plain": [
       "<Figure size 432x288 with 1 Axes>"
      ]
     },
     "metadata": {
      "needs_background": "light"
     },
     "output_type": "display_data"
    }
   ],
   "source": [
    "# Age Across Regions\n",
    "\n",
    "age_region_profile = crosstab_age_region.plot.bar(stacked= True)\n",
    "plt.legend(title = 'Age Across Regions')"
   ]
  },
  {
   "cell_type": "code",
   "execution_count": 25,
   "metadata": {},
   "outputs": [],
   "source": [
    "age_region_profile.figure.savefig(r'/Users/laceymarchment/Desktop/Instacart Basket Analysis/04 Analysis/Visualisations/age_region_profile.png')"
   ]
  },
  {
   "cell_type": "code",
   "execution_count": 26,
   "metadata": {},
   "outputs": [
    {
     "data": {
      "text/plain": [
       "<matplotlib.legend.Legend at 0x7ffc8b8df250>"
      ]
     },
     "execution_count": 26,
     "metadata": {},
     "output_type": "execute_result"
    },
    {
     "data": {
      "image/png": "[encoded data removed]",
      "text/plain": [
       "<Figure size 432x288 with 1 Axes>"
      ]
     },
     "metadata": {
      "needs_background": "light"
     },
     "output_type": "display_data"
    }
   ],
   "source": [
    "# Age across departments\n",
    "\n",
    "age_departments_profile = crosstab_age_departments.plot.bar(stacked= True)\n",
    "plt.legend(title = 'Age Across Departments')"
   ]
  },
  {
   "cell_type": "code",
   "execution_count": 27,
   "metadata": {},
   "outputs": [],
   "source": [
    "age_departments_profile.figure.savefig(r'/Users/laceymarchment/Desktop/Instacart Basket Analysis/04 Analysis/Visualisations/age_departments_profile.png')"
   ]
  },
  {
   "cell_type": "code",
   "execution_count": 28,
   "metadata": {},
   "outputs": [
    {
     "data": {
      "text/plain": [
       "<matplotlib.legend.Legend at 0x7ffc8b972bb0>"
      ]
     },
     "execution_count": 28,
     "metadata": {},
     "output_type": "execute_result"
    },
    {
     "data": {
      "image/png": "[encoded data removed]",
      "text/plain": [
       "<Figure size 432x288 with 1 Axes>"
      ]
     },
     "metadata": {
      "needs_background": "light"
     },
     "output_type": "display_data"
    }
   ],
   "source": [
    "# Family Size Across Regions\n",
    "\n",
    "family_region_profile = crosstab_family_region.plot.bar(stacked= True)\n",
    "plt.legend(title = 'Family Size Across Regions')"
   ]
  },
  {
   "cell_type": "code",
   "execution_count": 29,
   "metadata": {},
   "outputs": [],
   "source": [
    "family_region_profile.figure.savefig(r'/Users/laceymarchment/Desktop/Instacart Basket Analysis/04 Analysis/Visualisations/family_region_profile.png')"
   ]
  },
  {
   "cell_type": "code",
   "execution_count": 30,
   "metadata": {},
   "outputs": [
    {
     "data": {
      "text/plain": [
       "<matplotlib.legend.Legend at 0x7ffc8bb786d0>"
      ]
     },
     "execution_count": 30,
     "metadata": {},
     "output_type": "execute_result"
    },
    {
     "data": {
      "image/png": "[encoded data removed]",
      "text/plain": [
       "<Figure size 432x288 with 1 Axes>"
      ]
     },
     "metadata": {
      "needs_background": "light"
     },
     "output_type": "display_data"
    }
   ],
   "source": [
    "# Family size across departments\n",
    "\n",
    "family_departments_profile = crosstab_family_departments.plot.bar(stacked= True)\n",
    "plt.legend(title = 'Family Size Across Departments')"
   ]
  },
  {
   "cell_type": "code",
   "execution_count": 31,
   "metadata": {},
   "outputs": [],
   "source": [
    "family_departments_profile.figure.savefig(r'/Users/laceymarchment/Desktop/Instacart Basket Analysis/04 Analysis/Visualisations/family_departments_profile.png')"
   ]
  },
  {
   "cell_type": "code",
   "execution_count": 32,
   "metadata": {},
   "outputs": [
    {
     "data": {
      "text/plain": [
       "Index(['Unnamed: 0_x', 'order_id', 'user_id', 'order_number', 'order_dow',\n",
       "       'order_hour_of_day', 'days_since_prior_order', 'product_id',\n",
       "       'add_to_cart_order', 'reordered', 'Unnamed: 0_y', 'product_name_x',\n",
       "       'aisle_id_x', 'department_id_x', 'prices_x', 'exists', 'Unnamed: 0',\n",
       "       'product_name_y', 'aisle_id_y', 'department_id_y', 'prices_y', 'exist',\n",
       "       'max_order', 'loyalty_flag', 'Average_spending', 'spending_flag',\n",
       "       'Median_days_since_prior_order', 'frequency_flag', 'Gender', 'State',\n",
       "       'Age', 'date_joined', 'n_dependants', 'fam_status', 'income', 'Region',\n",
       "       'Activity_Flag', 'baby_profile', 'income_profile', 'income_flag',\n",
       "       'age_profile', 'Age_Profile', 'family_size'],\n",
       "      dtype='object')"
      ]
     },
     "execution_count": 32,
     "metadata": {},
     "output_type": "execute_result"
    }
   ],
   "source": [
    "df.columns"
   ]
  },
  {
   "cell_type": "code",
   "execution_count": null,
   "metadata": {},
   "outputs": [],
   "source": []
  }
 ],
 "metadata": {
  "kernelspec": {
   "display_name": "Python 3",
   "language": "python",
   "name": "python3"
  },
  "language_info": {
   "codemirror_mode": {
    "name": "ipython",
    "version": 3
   },
   "file_extension": ".py",
   "mimetype": "text/x-python",
   "name": "python",
   "nbconvert_exporter": "python",
   "pygments_lexer": "ipython3",
   "version": "3.8.5"
  }
 },
 "nbformat": 4,
 "nbformat_minor": 4
}
